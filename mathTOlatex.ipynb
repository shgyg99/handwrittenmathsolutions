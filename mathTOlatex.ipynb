{
  "cells": [
    {
      "cell_type": "markdown",
      "metadata": {
        "id": "Hi7OmzqQj_Te"
      },
      "source": [
        "# **🔴ENVIRONMENT SETUP**"
      ]
    },
    {
      "cell_type": "code",
      "execution_count": null,
      "metadata": {
        "id": "G2TVFhIEk7ib",
        "colab": {
          "base_uri": "https://localhost:8080/"
        },
        "outputId": "d26ab8fb-c3de-467f-ee55-b4f0c1e4fd5a"
      },
      "outputs": [
        {
          "output_type": "stream",
          "name": "stdout",
          "text": [
            "\u001b[2K   \u001b[90m━━━━━━━━━━━━━━━━━━━━━━━━━━━━━━━━━━━━━━━━\u001b[0m \u001b[32m931.6/931.6 kB\u001b[0m \u001b[31m8.6 MB/s\u001b[0m eta \u001b[36m0:00:00\u001b[0m\n",
            "\u001b[2K   \u001b[90m━━━━━━━━━━━━━━━━━━━━━━━━━━━━━━━━━━━━━━━━\u001b[0m \u001b[32m363.4/363.4 MB\u001b[0m \u001b[31m2.8 MB/s\u001b[0m eta \u001b[36m0:00:00\u001b[0m\n",
            "\u001b[2K   \u001b[90m━━━━━━━━━━━━━━━━━━━━━━━━━━━━━━━━━━━━━━━━\u001b[0m \u001b[32m13.8/13.8 MB\u001b[0m \u001b[31m86.8 MB/s\u001b[0m eta \u001b[36m0:00:00\u001b[0m\n",
            "\u001b[2K   \u001b[90m━━━━━━━━━━━━━━━━━━━━━━━━━━━━━━━━━━━━━━━━\u001b[0m \u001b[32m24.6/24.6 MB\u001b[0m \u001b[31m73.7 MB/s\u001b[0m eta \u001b[36m0:00:00\u001b[0m\n",
            "\u001b[2K   \u001b[90m━━━━━━━━━━━━━━━━━━━━━━━━━━━━━━━━━━━━━━━━\u001b[0m \u001b[32m883.7/883.7 kB\u001b[0m \u001b[31m51.7 MB/s\u001b[0m eta \u001b[36m0:00:00\u001b[0m\n",
            "\u001b[2K   \u001b[90m━━━━━━━━━━━━━━━━━━━━━━━━━━━━━━━━━━━━━━━━\u001b[0m \u001b[32m664.8/664.8 MB\u001b[0m \u001b[31m1.6 MB/s\u001b[0m eta \u001b[36m0:00:00\u001b[0m\n",
            "\u001b[2K   \u001b[90m━━━━━━━━━━━━━━━━━━━━━━━━━━━━━━━━━━━━━━━━\u001b[0m \u001b[32m211.5/211.5 MB\u001b[0m \u001b[31m10.8 MB/s\u001b[0m eta \u001b[36m0:00:00\u001b[0m\n",
            "\u001b[2K   \u001b[90m━━━━━━━━━━━━━━━━━━━━━━━━━━━━━━━━━━━━━━━━\u001b[0m \u001b[32m56.3/56.3 MB\u001b[0m \u001b[31m36.5 MB/s\u001b[0m eta \u001b[36m0:00:00\u001b[0m\n",
            "\u001b[2K   \u001b[90m━━━━━━━━━━━━━━━━━━━━━━━━━━━━━━━━━━━━━━━━\u001b[0m \u001b[32m127.9/127.9 MB\u001b[0m \u001b[31m17.8 MB/s\u001b[0m eta \u001b[36m0:00:00\u001b[0m\n",
            "\u001b[2K   \u001b[90m━━━━━━━━━━━━━━━━━━━━━━━━━━━━━━━━━━━━━━━━\u001b[0m \u001b[32m207.5/207.5 MB\u001b[0m \u001b[31m5.3 MB/s\u001b[0m eta \u001b[36m0:00:00\u001b[0m\n",
            "\u001b[2K   \u001b[90m━━━━━━━━━━━━━━━━━━━━━━━━━━━━━━━━━━━━━━━━\u001b[0m \u001b[32m21.1/21.1 MB\u001b[0m \u001b[31m79.0 MB/s\u001b[0m eta \u001b[36m0:00:00\u001b[0m\n",
            "\u001b[2K   \u001b[90m━━━━━━━━━━━━━━━━━━━━━━━━━━━━━━━━━━━━━━━━\u001b[0m \u001b[32m819.3/819.3 kB\u001b[0m \u001b[31m7.1 MB/s\u001b[0m eta \u001b[36m0:00:00\u001b[0m\n",
            "\u001b[?25h"
          ]
        }
      ],
      "source": [
        "!pip install -q torchmetrics\n",
        "!pip install -q wandb\n",
        "!pip install -q fastai\n",
        "!pip install -q pytorch_lightning"
      ]
    },
    {
      "cell_type": "markdown",
      "metadata": {
        "id": "OFEbeoVYlLRg"
      },
      "source": [
        "# **🔴IMPORT LIBS**"
      ]
    },
    {
      "cell_type": "code",
      "execution_count": null,
      "metadata": {
        "id": "LWODQ4BLjblB"
      },
      "outputs": [],
      "source": [
        "# Load the necessary libraries\n",
        "from google.colab import files\n",
        "from IPython.display import display, Math\n",
        "import warnings\n",
        "warnings.filterwarnings('ignore')\n",
        "import matplotlib.pyplot as plt\n",
        "from collections import defaultdict\n",
        "import os\n",
        "from torch.nn.utils.rnn import pad_sequence\n",
        "import pandas as pd\n",
        "import random\n",
        "import numpy as np\n",
        "import matplotlib.pyplot as plt\n",
        "import seaborn as sns\n",
        "from sklearn.metrics import confusion_matrix\n",
        "\n",
        "import torchvision\n",
        "from torchvision import transforms as TT\n",
        "from torchvision.models import resnet50, ResNet50_Weights\n",
        "from torchvision.utils import make_grid\n",
        "\n",
        "import torch\n",
        "from torch import nn\n",
        "from torch.utils.data import DataLoader, Dataset, random_split\n",
        "from torch import optim\n",
        "from torch.nn import functional as F\n",
        "from torch import Tensor\n",
        "from torch.nn.utils.rnn import pad_sequence\n",
        "\n",
        "from tokenizers import Tokenizer, models, trainers, pre_tokenizers\n",
        "import wandb\n",
        "import tqdm\n",
        "import torchmetrics as tm\n",
        "from torchmetrics import Metric\n",
        "from PIL import Image\n",
        "\n",
        "from argparse import Namespace\n",
        "from typing import List, Optional, Set\n",
        "\n",
        "import editdistance\n",
        "from pathlib import Path\n",
        "\n",
        "from pytorch_lightning import Trainer, LightningModule\n",
        "from pytorch_lightning.callbacks import Callback, EarlyStopping, ModelCheckpoint, LearningRateMonitor\n",
        "from torch.optim.lr_scheduler import ReduceLROnPlateau\n",
        "from pytorch_lightning.loggers.wandb import WandbLogger"
      ]
    },
    {
      "cell_type": "code",
      "source": [
        "from google.colab import drive\n",
        "drive.mount('/content/drive')"
      ],
      "metadata": {
        "id": "pUhn6Vps9rvs",
        "colab": {
          "base_uri": "https://localhost:8080/"
        },
        "outputId": "0d71ad6e-a5a8-4039-da9d-3c5be1ae3333"
      },
      "execution_count": null,
      "outputs": [
        {
          "output_type": "stream",
          "name": "stdout",
          "text": [
            "Drive already mounted at /content/drive; to attempt to forcibly remount, call drive.mount(\"/content/drive\", force_remount=True).\n"
          ]
        }
      ]
    },
    {
      "cell_type": "markdown",
      "metadata": {
        "id": "ZZJ2on11ltK-"
      },
      "source": [
        "# **🔴ARGUMENTS**"
      ]
    },
    {
      "cell_type": "code",
      "execution_count": null,
      "metadata": {
        "id": "MmNE3wyWx4dw"
      },
      "outputs": [],
      "source": [
        "# Define configuration parameters\n",
        "\n",
        "config = {\n",
        "    \"seed\": 1234,\n",
        "\n",
        "    \"trainer\": {\n",
        "        \"overfit_batches\": 0.0,\n",
        "        \"check_val_every_n_epoch\": 2,\n",
        "        \"fast_dev_run\": False,\n",
        "        \"max_epochs\": 100,\n",
        "        \"min_epochs\": 1,\n",
        "        \"num_sanity_val_steps\": 0,\n",
        "    },\n",
        "\n",
        "    \"callbacks\": {\n",
        "        \"model_checkpoint\": {\n",
        "            \"save_top_k\": 1,\n",
        "            \"save_weights_only\": True,\n",
        "            \"mode\": \"min\",\n",
        "            \"monitor\": \"val/loss\",\n",
        "            \"dirpath\": \"/content/drive/MyDrive/papersFolder/model_checkpoints\",\n",
        "            \"filename\": \"{epoch}-{val/loss:.2f}-{val/cer:.2f}\"\n",
        "        },\n",
        "        \"early_stopping\": {\n",
        "            \"patience\": 3,\n",
        "            \"mode\": \"min\",\n",
        "            \"monitor\": \"val/loss\",\n",
        "            \"min_delta\": 0.001\n",
        "        },\n",
        "        \"LearningRateMonitor\":{\n",
        "            \"logging_interval\": \"epoch\"\n",
        "        }\n",
        "    },\n",
        "\n",
        "    \"data\": {\n",
        "        \"batch_size\": 16,\n",
        "        \"num_workers\": 4,\n",
        "        \"pin_memory\": True\n",
        "    },\n",
        "\n",
        "    \"lit_model\": {\n",
        "        # Optimizer\n",
        "        \"lr\": 0.0001,\n",
        "        \"weight_decay\": 0.00001,\n",
        "\n",
        "        # Scheduler\n",
        "        \"milestones\": [10],\n",
        "        \"gamma\": 0.5,\n",
        "\n",
        "        # Model\n",
        "        \"d_model\": 128,\n",
        "        \"dim_feedforward\": 256,\n",
        "        \"nhead\": 4,\n",
        "        \"dropout\": 0,\n",
        "        \"num_decoder_layers\": 3,\n",
        "        \"max_output_len\": 200\n",
        "    },\n",
        "\n",
        "    \"logger\": {\n",
        "        \"project\": \"image-to-latex\"\n",
        "    }\n",
        "}"
      ]
    },
    {
      "cell_type": "code",
      "execution_count": null,
      "metadata": {
        "id": "VqCs08IPlqLg"
      },
      "outputs": [],
      "source": [
        "path = '/content/drive/MyDrive/papersFolder/'"
      ]
    },
    {
      "cell_type": "markdown",
      "metadata": {
        "id": "H_WJRepJQcuB"
      },
      "source": [
        "# **🔴CUSTOM DATASET**"
      ]
    },
    {
      "cell_type": "code",
      "execution_count": null,
      "metadata": {
        "id": "uoQIb5HXSiiC",
        "outputId": "ffe6deac-a71f-40d6-a2ba-12ab16627a69",
        "colab": {
          "base_uri": "https://localhost:8080/"
        }
      },
      "outputs": [
        {
          "output_type": "stream",
          "name": "stdout",
          "text": [
            "Done!\n"
          ]
        }
      ],
      "source": [
        "# Prepare LaTeX formulas for custom tokenizer\n",
        "\n",
        "df = pd.read_csv(os.path.join(path, 'merged_sorted.csv'))\n",
        "latex_formulas = df.iloc[:, 1]\n",
        "with open(os.path.join(path, 'latex_formulas.txt'), 'w', encoding='utf-8') as f:\n",
        "  for formula in latex_formulas:\n",
        "    f.write(formula + '\\n')\n",
        "\n",
        "print('Done!')"
      ]
    },
    {
      "cell_type": "code",
      "execution_count": null,
      "metadata": {
        "id": "JUjWVndOluvJ",
        "outputId": "3e261441-636d-440e-b0f8-14994ba2f9dc",
        "colab": {
          "base_uri": "https://localhost:8080/"
        }
      },
      "outputs": [
        {
          "output_type": "stream",
          "name": "stdout",
          "text": [
            "✅Done\n"
          ]
        }
      ],
      "source": [
        "# Define tokens for LaTeX\n",
        "tokens = [\n",
        "    '\\\\', '{', '}', '^', '+', '-', \"'\", '_', '!', '.', '/', '&', '%', '*', '\\\\div', '\\\\geq',\n",
        "    '\\\\leq', '\\\\frac', '\\\\times', '\\\\lim', '\\\\sin', '\\\\cos', '\\\\tan', '\\\\csc', '\\\\sec',\n",
        "    '\\\\sqrt', '\\\\sum', '\\\\rightarrow', '\\\\Rightarrow', '\\\\leftarrow', '\\\\Leftarrow',\n",
        "    '\\\\right', '\\\\left', '\\\\alpha', '\\\\beta', '|', '\\\\Delta', '\\\\delta', '\\\\gamma', '\\\\lambda',\n",
        "    '\\\\min', '\\\\max', '(', ')', '<', '>', '=', '\\\\pm', '\\\\mp', '\\\\neq', '\\\\infty', 'matrix',\n",
        "    '[', ']', '\\\\in', '\\\\notin', '\\\\cap', '\\\\cup', '\\\\begin', '\\\\end', '\\\\dots', '\\\\int', ':',\n",
        "    '\\\\ln', '\\\\pi', '\\\\theta', '\\\\to', '\\\\arctan', '\\\\arccot', '\\\\arcsin', '\\\\arccos',\n",
        "    '\\\\log', '\\\\sinh', '\\\\cosh', '\\\\coth', '\\\\tanh', '\\\\degree', '\\\\sim',\n",
        "    '\\\\forall', '\\\\emptyset', '\\\\buildrelF', '\\\\bar', '\\\\exists', '\\\\varepsilon', '\\\\partial',\n",
        "    '\\\\hat', '\\\\triangle', '\\\\mathbb', '\\\\simeq',\n",
        "    'a', 'b', 'c', 'd', 'e', 'f', 'g', 'h', 'i', 'j', 'k', 'l', 'm', 'n', 'o', 'p', 'q', 'r', 's', 't', 'u', 'v', 'w', 'x', 'y', 'z',\n",
        "    '0', '1', '2', '3', '4', '5', '6', '7', '8', '9'\n",
        "]\n",
        "# Train tokenizer\n",
        "tokenizer = Tokenizer(models.BPE())\n",
        "\n",
        "special_tokens = [\"<s>\", \"</s>\", \"<unk>\", \"<pad>\"] + tokens\n",
        "trainer = trainers.BpeTrainer(vocab_size=len(special_tokens), special_tokens=special_tokens)\n",
        "\n",
        "tokenizer.pre_tokenizer = pre_tokenizers.Whitespace()\n",
        "\n",
        "files = [\"/content/drive/MyDrive/papersFolder/latex_formulas.txt\"]\n",
        "tokenizer.train(files, trainer)\n",
        "\n",
        "# Save the trained tokenizer\n",
        "tokenizer.save(\"/content/drive/MyDrive/papersFolder/latex_tokenizer.json\")\n",
        "\n",
        "print(\"✅Done\")"
      ]
    },
    {
      "cell_type": "code",
      "execution_count": null,
      "metadata": {
        "id": "zvHArRPuhwts"
      },
      "outputs": [],
      "source": [
        "def target_transform(label):\n",
        "  # Tokenize the label with start and end tokens\n",
        "  tokenizer = Tokenizer.from_file(f\"{path}/latex_tokenizer.json\")\n",
        "  encoded_label = tokenizer.encode(f'<s>{label}</s>')\n",
        "  return torch.LongTensor(encoded_label.ids)"
      ]
    },
    {
      "cell_type": "code",
      "execution_count": null,
      "metadata": {
        "id": "AxHJ3t4kiyCG"
      },
      "outputs": [],
      "source": [
        "image_transform = TT.Compose([\n",
        "    # Transform image to grayscale, resize, and normalize\n",
        "    TT.Grayscale(num_output_channels=1),\n",
        "    TT.Resize((256, 512)),\n",
        "    TT.ToTensor(),\n",
        "    TT.Normalize(mean=[0.5], std=[0.5])\n",
        "])"
      ]
    },
    {
      "cell_type": "code",
      "source": [
        "class LatexImages(Dataset):\n",
        "    _all_cropped_files = None\n",
        "\n",
        "    def __init__(self, path, phase, image_transform=None, target_transform=None):\n",
        "        self.path = path\n",
        "        self.image_transform = image_transform\n",
        "        self.target_transform = target_transform\n",
        "        self.phase = phase\n",
        "\n",
        "        csv = pd.read_csv(os.path.join(self.path, 'merged_sorted.csv'))\n",
        "\n",
        "        self.image_paths = []\n",
        "        self.labels = []\n",
        "\n",
        "        # Process the \"cropped\" folder\n",
        "        if LatexImages._all_cropped_files is None:\n",
        "            cropped_folder = os.path.join(self.path, 'cropped')\n",
        "            LatexImages._all_cropped_files = os.listdir(cropped_folder)\n",
        "            random.shuffle(LatexImages._all_cropped_files)\n",
        "\n",
        "        if phase == 'train':\n",
        "            start, end = 0, 5600\n",
        "        elif phase == 'valid':\n",
        "            start, end = 5600, 6600\n",
        "        else:  # test\n",
        "            start, end = 6600, 7000\n",
        "\n",
        "        selected_files = LatexImages._all_cropped_files[start:end]\n",
        "\n",
        "        for i in selected_files:\n",
        "            image_path = fr'.\\cropped\\{i}'\n",
        "            try:\n",
        "                label = csv[csv['Image Path'] == image_path]['LaTeX Label'].values[0]\n",
        "                self.image_paths.append(image_path)\n",
        "                self.labels.append(label)\n",
        "            except:\n",
        "                print(f\"Image not found in CSV: {image_path}\")\n",
        "\n",
        "        # Process other folders\n",
        "        for folder in ['Symbols', 'EnglishAlphabet', 'PersianNumbers']:\n",
        "            folder_path = os.path.join(self.path, folder)\n",
        "            extra_files = []  # Clear list on each iteration\n",
        "\n",
        "            for subfolder in os.listdir(folder_path):\n",
        "                subfolder_path = os.path.join(folder_path, subfolder)\n",
        "                for fil in os.listdir(subfolder_path):\n",
        "                    extra_files.append(fr'.\\{folder}\\{subfolder}\\{fil}')\n",
        "\n",
        "            random.shuffle(extra_files)\n",
        "            total_count = len(extra_files)\n",
        "            train_count = int(0.8 * total_count)\n",
        "            valid_count = int(0.2 * total_count)\n",
        "\n",
        "            if phase == 'train':\n",
        "                selected_files = extra_files[:train_count]\n",
        "            elif phase == 'valid':\n",
        "                selected_files = extra_files[train_count:train_count + valid_count]\n",
        "            else:\n",
        "                selected_files = extra_files[train_count + valid_count:]\n",
        "\n",
        "            for image_path in selected_files:\n",
        "                try:\n",
        "                    label = csv[csv['Image Path'] == image_path]['LaTeX Label'].values[0]\n",
        "                    self.image_paths.append(image_path)\n",
        "                    self.labels.append(label)\n",
        "                except:\n",
        "                    pass\n",
        "\n",
        "    def __getitem__(self, index):\n",
        "        try:\n",
        "          image_path = os.path.join(self.path, self.image_paths[index].split('\\\\')[1], self.image_paths[index].split('\\\\')[2], self.image_paths[index].split('\\\\')[3])\n",
        "        except:\n",
        "          image_path = os.path.join(self.path, self.image_paths[index].split('\\\\')[1], self.image_paths[index].split('\\\\')[2])\n",
        "\n",
        "        # Apply target transformation if specified\n",
        "        if self.target_transform:\n",
        "            label = self.target_transform(self.labels[index])\n",
        "        else:\n",
        "            label = self.labels[index]\n",
        "\n",
        "        # Open the image and apply transformations\n",
        "        image = Image.open(image_path)\n",
        "        if self.image_transform:\n",
        "            image = self.image_transform(image)\n",
        "\n",
        "        return image, label\n",
        "\n",
        "    def __len__(self):\n",
        "        return len(self.image_paths)\n"
      ],
      "metadata": {
        "id": "WYDF6G-WLJcN"
      },
      "execution_count": null,
      "outputs": []
    },
    {
      "cell_type": "code",
      "execution_count": null,
      "metadata": {
        "id": "AHi-cTp4UIgd",
        "outputId": "baadcd52-f19c-4b69-dd95-023317d4de3b",
        "colab": {
          "base_uri": "https://localhost:8080/"
        }
      },
      "outputs": [
        {
          "output_type": "stream",
          "name": "stdout",
          "text": [
            "20943\n",
            "4834\n",
            "362\n"
          ]
        }
      ],
      "source": [
        "train_dataset = LatexImages(path=path, phase=\"train\", image_transform=image_transform, target_transform=target_transform)\n",
        "valid_dataset = LatexImages(path=path, phase=\"valid\", image_transform=image_transform, target_transform=target_transform)\n",
        "test_dataset = LatexImages(path=path, phase=\"test\", image_transform=image_transform, target_transform=target_transform)\n",
        "\n",
        "print(len(train_dataset))  # 4000 + other folders\n",
        "print(len(valid_dataset))  # 1500 + other folders\n",
        "print(len(test_dataset))  # 1500\n"
      ]
    },
    {
      "cell_type": "code",
      "execution_count": null,
      "metadata": {
        "id": "FsZ45t_EbGLe",
        "outputId": "9aa58e06-5e6a-443c-b8cb-bc80d9626f7f",
        "colab": {
          "base_uri": "https://localhost:8080/",
          "height": 331
        }
      },
      "outputs": [
        {
          "output_type": "stream",
          "name": "stdout",
          "text": [
            "torch.Size([1, 256, 512]) torch.Size([20])\n"
          ]
        },
        {
          "output_type": "display_data",
          "data": {
            "text/plain": [
              "<Figure size 640x480 with 1 Axes>"
            ],
            "image/png": "[encoded data removed]"
          },
          "metadata": {}
        }
      ],
      "source": [
        "im, la = train_dataset.__getitem__(np.random.randint(0, train_dataset.__len__()))\n",
        "\n",
        "plt.imshow(TT.ToPILImage()(im))\n",
        "print(im.shape, la.shape)"
      ]
    },
    {
      "cell_type": "markdown",
      "source": [
        "# **🔴Analize the dataset**"
      ],
      "metadata": {
        "id": "nZMnUXXtYn1_"
      }
    },
    {
      "cell_type": "code",
      "source": [
        "def count_samples(dataset):\n",
        "    folder_counts = defaultdict(int)\n",
        "    # Count the number of samples in each folder based on image paths\n",
        "    for image_path in dataset.image_paths:\n",
        "        folder_name = image_path.split('\\\\')[-2]\n",
        "        folder_counts[folder_name] += 1\n",
        "    return folder_counts\n",
        "\n",
        "# Get the sample counts for the train and validation datasets\n",
        "train_counts = count_samples(train_dataset)\n",
        "valid_counts = count_samples(valid_dataset)\n",
        "\n",
        "# Exclude \"cropped\" folder from the list of folders\n",
        "all_folders = sorted(set(train_counts.keys()) | set(valid_counts.keys()))\n",
        "all_folders = [folder for folder in all_folders if folder != \"cropped\"]\n",
        "\n",
        "# Extract sample counts and compute ratios (0 if no value exists for a folder)\n",
        "train_values = [train_counts.get(folder, 0) for folder in all_folders]\n",
        "valid_values = [valid_counts.get(folder, 0) for folder in all_folders]\n",
        "# Calculate ratios as percentages\n",
        "total_train = sum(train_values)\n",
        "total_valid = sum(valid_values)\n",
        "train_ratios = [count / total_train * 100 if total_train != 0 else 0 for count in train_values]\n",
        "valid_ratios = [count / total_valid * 100 if total_valid != 0 else 0 for count in valid_values]\n",
        "\n",
        "# Chart settings\n",
        "x = np.arange(len(all_folders))  # Positions for x-axis labels\n",
        "width = 0.25  # Bar width\n",
        "\n",
        "plt.figure(figsize=(25, 5))\n",
        "\n",
        "# Plot the bars for the ratios\n",
        "plt.bar(x - width, train_ratios, width, label='Train (Ratio)', color='teal')\n",
        "plt.bar(x, valid_ratios, width, label='Valid (Ratio)', color='orange')\n",
        "\n",
        "# Configure chart\n",
        "plt.xlabel(\"Dataset Folders\")\n",
        "plt.ylabel(\"Percentage of Samples\")\n",
        "plt.title(\"Percentage of Samples in Train, Valid, and Test Sets (Excluding 'cropped')\")\n",
        "plt.xticks(ticks=x, labels=all_folders, rotation=45)\n",
        "plt.legend()\n",
        "plt.grid(axis='y', linestyle='--', alpha=0.7)\n",
        "\n",
        "# Display the chart\n",
        "plt.show()\n"
      ],
      "metadata": {
        "id": "Vwnj3zeRL1EE",
        "outputId": "4e15fb4c-a163-459e-828c-673c8556248a",
        "colab": {
          "base_uri": "https://localhost:8080/",
          "height": 289
        }
      },
      "execution_count": null,
      "outputs": [
        {
          "output_type": "display_data",
          "data": {
            "text/plain": [
              "<Figure size 2500x500 with 1 Axes>"
            ],
            "image/png": "[encoded data removed]"
          },
          "metadata": {}
        }
      ]
    },
    {
      "cell_type": "code",
      "source": [
        "def count_cropped_samples(dataset):\n",
        "    folder_counts = defaultdict(int)\n",
        "    # Only consider the \"cropped\" folder for counting samples\n",
        "    for image_path in dataset.image_paths:\n",
        "        folder_name = image_path.split('\\\\')[-2]\n",
        "        if folder_name == \"cropped\":  # Only count samples in the \"cropped\" folder\n",
        "            folder_counts[folder_name] += 1\n",
        "    return folder_counts\n",
        "\n",
        "# Get the sample counts for the \"cropped\" folder in train, valid, and test datasets\n",
        "train_cropped_counts = count_cropped_samples(train_dataset)\n",
        "valid_cropped_counts = count_cropped_samples(valid_dataset)\n",
        "test_cropped_counts = count_cropped_samples(test_dataset)\n",
        "\n",
        "# Number of samples in \"cropped\" folder\n",
        "train_cropped_value = train_cropped_counts.get(\"cropped\", 0)\n",
        "valid_cropped_value = valid_cropped_counts.get(\"cropped\", 0)\n",
        "test_cropped_value = test_cropped_counts.get(\"cropped\", 0)\n",
        "\n",
        "# Calculate ratios\n",
        "total_train = train_cropped_value + valid_cropped_value + test_cropped_value\n",
        "train_ratio = (train_cropped_value / total_train * 100) if total_train != 0 else 0\n",
        "valid_ratio = (valid_cropped_value / total_train * 100) if total_train != 0 else 0\n",
        "test_ratio = (test_cropped_value / total_train * 100) if total_train != 0 else 0\n",
        "\n",
        "# Chart settings\n",
        "x = ['Train', 'Valid', 'Test']\n",
        "values = [train_cropped_value, valid_cropped_value, test_cropped_value]\n",
        "ratios = [train_ratio, valid_ratio, test_ratio]\n",
        "\n",
        "# Plotting\n",
        "fig, ax1 = plt.subplots(figsize=(8, 5))\n",
        "\n",
        "# Bar chart for the number of samples\n",
        "ax1.bar(x, values, color='teal', alpha=0.7, label=\"Number of Samples\")\n",
        "\n",
        "# Plotting the ratios with a secondary y-axis\n",
        "ax2 = ax1.twinx()  # Create a second axis for the ratios\n",
        "ax2.plot(x, ratios, color='orange', marker='o', label=\"Ratio (%)\", linestyle='--')\n",
        "\n",
        "# Chart configurations\n",
        "ax1.set_xlabel(\"Dataset\")\n",
        "ax1.set_ylabel(\"Number of Samples\", color='teal')\n",
        "ax2.set_ylabel(\"Ratio (%)\", color='orange')\n",
        "ax1.set_title(\"Number and Ratio of 'cropped' Samples in Train, Valid, and Test Sets\")\n",
        "\n",
        "# Display legends\n",
        "ax1.legend(loc='upper left')\n",
        "ax2.legend(loc='upper right')\n",
        "\n",
        "plt.grid(axis='y', linestyle='--', alpha=0.7)\n",
        "plt.show()\n"
      ],
      "metadata": {
        "id": "97KH5EeYN6cO",
        "outputId": "c6839687-1b0b-4e48-d355-20e09c8c9f25",
        "colab": {
          "base_uri": "https://localhost:8080/",
          "height": 487
        }
      },
      "execution_count": null,
      "outputs": [
        {
          "output_type": "display_data",
          "data": {
            "text/plain": [
              "<Figure size 800x500 with 2 Axes>"
            ],
            "image/png": "[encoded data removed]"
          },
          "metadata": {}
        }
      ]
    },
    {
      "cell_type": "markdown",
      "metadata": {
        "id": "Tq2Ryx5Dk8km"
      },
      "source": [
        "# **🔴Data Loader**"
      ]
    },
    {
      "cell_type": "code",
      "execution_count": null,
      "metadata": {
        "id": "QALwTzOJgyE4"
      },
      "outputs": [],
      "source": [
        "def collate_fn(data):\n",
        "    # Load the tokenizer and get the padding token value\n",
        "    token = Tokenizer.from_file(f\"{path}/latex_tokenizer.json\")\n",
        "    pad_value = token.get_vocab().get('<pad>', 3)\n",
        "\n",
        "    tensors, targets = zip(*data)\n",
        "\n",
        "    # Convert targets into tensors\n",
        "    targets = [torch.tensor(t, dtype=torch.long) for t in targets]\n",
        "\n",
        "    # Pad sequences to ensure equal length within a batch\n",
        "    features = pad_sequence(targets, padding_value=pad_value, batch_first=True)\n",
        "\n",
        "    try:\n",
        "        # Stack tensors to create a batch\n",
        "        tensors = torch.stack(tensors)\n",
        "    except RuntimeError as e:\n",
        "        # Print an error message if stacking fails\n",
        "        print(f\"stack error: {e}\")\n",
        "        for i, t in enumerate(tensors):\n",
        "            print(f\"tensor shape error {i}: {t.shape}\")\n",
        "\n",
        "    return tensors, features\n"
      ]
    },
    {
      "cell_type": "code",
      "execution_count": null,
      "metadata": {
        "id": "ces-ckAimjmH"
      },
      "outputs": [],
      "source": [
        "train_loader = DataLoader(train_dataset, shuffle=True, collate_fn=collate_fn, **config['data'])\n",
        "valid_loader = DataLoader(valid_dataset, shuffle=False, collate_fn=collate_fn, **config['data'])\n",
        "test_loader = DataLoader(test_dataset, shuffle=False, collate_fn=collate_fn, **config['data'])"
      ]
    },
    {
      "cell_type": "code",
      "execution_count": null,
      "metadata": {
        "id": "ggBhGWhYnnBD",
        "outputId": "b6301f5f-1424-4ae0-cf80-e2d726ec54ac",
        "colab": {
          "base_uri": "https://localhost:8080/"
        }
      },
      "outputs": [
        {
          "output_type": "execute_result",
          "data": {
            "text/plain": [
              "(torch.Size([16, 1, 256, 512]), torch.Size([16, 25]))"
            ]
          },
          "metadata": {},
          "execution_count": 22
        }
      ],
      "source": [
        "x, y = next(iter(train_loader))\n",
        "x.shape, y.shape"
      ]
    },
    {
      "cell_type": "markdown",
      "metadata": {
        "id": "0Pifowx-rjej"
      },
      "source": [
        "# **🔴Metric**"
      ]
    },
    {
      "cell_type": "code",
      "execution_count": null,
      "metadata": {
        "colab": {
          "base_uri": "https://localhost:8080/"
        },
        "id": "YMd_SbG0syuX",
        "outputId": "333cc7d8-6f17-4501-f8e1-8058ad134f1c"
      },
      "outputs": [
        {
          "output_type": "execute_result",
          "data": {
            "text/plain": [
              "'cuda'"
            ],
            "application/vnd.google.colaboratory.intrinsic+json": {
              "type": "string"
            }
          },
          "metadata": {},
          "execution_count": 17
        }
      ],
      "source": [
        "device = 'cuda' if torch.cuda.is_available() else 'cpu'\n",
        "device"
      ]
    },
    {
      "cell_type": "code",
      "execution_count": null,
      "metadata": {
        "id": "OgRow6K_rpFO"
      },
      "outputs": [],
      "source": [
        "class CharacterErrorRate(Metric):\n",
        "    def __init__(self, ignore_indices: Set[int], *args):\n",
        "        # Initialize the Metric class and set the ignore indices for certain tokens\n",
        "        super().__init__(*args)\n",
        "        self.ignore_indices = ignore_indices\n",
        "\n",
        "        # Track the total errors and the number of samples processed\n",
        "        self.add_state(\"error\", default=torch.tensor(0.0), dist_reduce_fx=\"sum\")\n",
        "        self.add_state(\"total\", default=torch.tensor(0), dist_reduce_fx=\"sum\")\n",
        "\n",
        "        self.error: Tensor\n",
        "        self.total: Tensor\n",
        "\n",
        "    def update(self, preds, targets):\n",
        "        N = preds.shape[0]\n",
        "\n",
        "        for i in range(N):\n",
        "            # Filter out ignored indices from both prediction and target\n",
        "            pred = [token for token in preds[i].tolist() if token not in self.ignore_indices]\n",
        "            target = [token for token in targets[i].tolist() if token not in self.ignore_indices]\n",
        "\n",
        "            # Compute the edit distance (Levenshtein distance) between prediction and target\n",
        "            distance = editdistance.distance(pred, target)\n",
        "\n",
        "            # Update error count based on the relative length of the prediction and target\n",
        "            if max(len(pred), len(target)) > 0:\n",
        "                self.error += distance / max(len(pred), len(target))\n",
        "\n",
        "        # Increment total processed samples\n",
        "        self.total += N\n",
        "\n",
        "    def compute(self) -> Tensor:\n",
        "        # Return the average character error rate\n",
        "        return self.error / self.total\n"
      ]
    },
    {
      "cell_type": "markdown",
      "metadata": {
        "id": "7WDNaXpjnB3c"
      },
      "source": [
        "# **🔴Functions**"
      ]
    },
    {
      "cell_type": "code",
      "execution_count": null,
      "metadata": {
        "id": "fl-5ILMmra1a"
      },
      "outputs": [],
      "source": [
        "class LitResNetTransformer(LightningModule):\n",
        "    def __init__(self,\n",
        "                 d_model: int,\n",
        "                 dim_feedforward: int,\n",
        "                 nhead: int,\n",
        "                 dropout: float,\n",
        "                 num_decoder_layers: int,\n",
        "                 max_output_len: int,\n",
        "                 lr: float = 0.001,\n",
        "                 weight_decay: float = 0.0001,\n",
        "                 milestones: List[int] = [5],\n",
        "                 gamma: float = 0.1,\n",
        "                 save_path: str = 'path_to_save'):  # Default save path for model\n",
        "        super().__init__()\n",
        "        self.save_hyperparameters()\n",
        "        self.tokenizer = Tokenizer.from_file(f\"{self.path}/latex_tokenizer.json\")  # Load tokenizer\n",
        "        self.model = ResNetTransformer(  # Initialize ResNet-Transformer model\n",
        "            d_model=d_model,\n",
        "            dim_feedforward=dim_feedforward,\n",
        "            nhead=nhead,\n",
        "            dropout=dropout,\n",
        "            num_decoder_layers=num_decoder_layers,\n",
        "            max_output_len=max_output_len,\n",
        "            sos_index=self.tokenizer.get_vocab()[\"<s>\"],  # Start-of-sequence token\n",
        "            eos_index=self.tokenizer.get_vocab()[\"</s>\"],  # End-of-sequence token\n",
        "            pad_index=self.tokenizer.get_vocab()[\"<pad>\"],  # Padding token\n",
        "            num_classes=self.tokenizer.get_vocab_size(),  # Number of classes\n",
        "        )\n",
        "        # Cross-Entropy loss ignoring padding\n",
        "        self.loss_fn = nn.CrossEntropyLoss(ignore_index=self.tokenizer.get_vocab()[\"<pad>\"])\n",
        "        self.val_cer = CharacterErrorRate({self.tokenizer.get_vocab()[\"<pad>\"], self.tokenizer.get_vocab()[\"<s>\"], self.tokenizer.get_vocab()[\"</s>\"]})  # CER for validation\n",
        "        self.test_cer = CharacterErrorRate({self.tokenizer.get_vocab()[\"<pad>\"], self.tokenizer.get_vocab()[\"<s>\"], self.tokenizer.get_vocab()[\"</s>\"]})  # CER for testing\n",
        "\n",
        "    def training_step(self, batch, batch_idx):\n",
        "        imgs, targets = batch\n",
        "        logits = self.model(imgs, targets[:, :-1])  # Model output excluding last target token\n",
        "        loss = self.loss_fn(logits, targets[:, 1:])  # Compute loss excluding first target token\n",
        "        self.log(\"train/loss\", loss)  # Log training loss\n",
        "        return loss\n",
        "\n",
        "    def validation_step(self, batch):\n",
        "        imgs, targets = batch\n",
        "        logits = self.model(imgs, targets[:, :-1])  # Model output\n",
        "        loss = self.loss_fn(logits, targets[:, 1:])  # Compute loss\n",
        "        self.log(\"val/loss\", loss, on_step=False, on_epoch=True, prog_bar=True)  # Log validation loss\n",
        "\n",
        "        preds = self.model.predict(imgs)  # Get predictions\n",
        "        val_cer = self.val_cer(preds, targets)  # Compute CER for validation\n",
        "        self.log(\"val/cer\", val_cer)\n",
        "\n",
        "    def test_step(self, batch):\n",
        "        imgs, targets = batch\n",
        "        preds = self.model.predict(imgs)  # Get predictions\n",
        "        test_cer = self.test_cer(preds, targets)  # Compute CER for test\n",
        "        self.log(\"test/cer\", test_cer)  # Log test CER\n",
        "        self.test_step_outputs.append(preds)  # Store predictions\n",
        "        return preds\n",
        "\n",
        "    def on_test_epoch_end(self):\n",
        "        with open(f\"{self.path}/test_predictions.txt\", \"w\") as f:  # Save predictions to file\n",
        "            for preds in self.test_step_outputs:\n",
        "                for pred in preds:\n",
        "                    decoded = [self.tokenizer.id_to_token(j) for j in pred.tolist() if j != 3]  # Decode predictions\n",
        "                    decoded.append(\"\\n\")\n",
        "                    f.write(\" \".join(decoded))  # Write to file\n",
        "\n",
        "    def configure_optimizers(self):\n",
        "        optimizer = torch.optim.AdamW(self.model.parameters(), lr=self.lr, weight_decay=self.weight_decay)  # AdamW optimizer\n",
        "        scheduler = torch.optim.lr_scheduler.MultiStepLR(optimizer, milestones=self.milestones, gamma=self.gamma)  # Learning rate scheduler\n",
        "        return [optimizer], [scheduler]\n"
      ]
    },
    {
      "cell_type": "markdown",
      "metadata": {
        "id": "qQrcAWNgnVt5"
      },
      "source": [
        "# **🔴Model**"
      ]
    },
    {
      "cell_type": "code",
      "execution_count": null,
      "metadata": {
        "id": "QhxtHgqFowZ6"
      },
      "outputs": [],
      "source": [
        "class PositionalEncoding2D(nn.Module):\n",
        "    \"\"\"2-D positional encodings for the feature maps produced by the encoder.\n",
        "\n",
        "    Following https://arxiv.org/abs/2103.06450 by Sumeet Singh.\n",
        "\n",
        "    Reference:\n",
        "    https://github.com/full-stack-deep-learning/fsdl-text-recognizer-2021-labs/blob/main/lab9/text_recognizer/models/transformer_util.py\n",
        "    \"\"\"\n",
        "\n",
        "    def __init__(self, d_model: int, max_h: int = 2000, max_w: int = 2000) -> None:\n",
        "        super().__init__()\n",
        "        self.d_model = d_model\n",
        "        assert d_model % 2 == 0, f\"Embedding depth {d_model} is not even\"\n",
        "        pe = self.make_pe(d_model, max_h, max_w)  # (d_model, max_h, max_w)\n",
        "        self.register_buffer(\"pe\", pe)\n",
        "\n",
        "    @staticmethod\n",
        "    def make_pe(d_model: int, max_h: int, max_w: int) -> Tensor:\n",
        "        \"\"\"Compute positional encoding.\"\"\"\n",
        "        pe_h = PositionalEncoding1D.make_pe(d_model=d_model // 2, max_len=max_h)  # (max_h, 1 d_model // 2)\n",
        "        pe_h = pe_h.permute(2, 0, 1).expand(-1, -1, max_w)  # (d_model // 2, max_h, max_w)\n",
        "\n",
        "        pe_w = PositionalEncoding1D.make_pe(d_model=d_model // 2, max_len=max_w)  # (max_w, 1, d_model // 2)\n",
        "        pe_w = pe_w.permute(2, 1, 0).expand(-1, max_h, -1)  # (d_model // 2, max_h, max_w)\n",
        "\n",
        "        pe = torch.cat([pe_h, pe_w], dim=0)  # (d_model, max_h, max_w)\n",
        "        return pe\n",
        "\n",
        "    def forward(self, x: Tensor) -> Tensor:\n",
        "        \"\"\"Forward pass.\n",
        "\n",
        "        Args:\n",
        "            x: (B, d_model, H, W)\n",
        "\n",
        "        Returns:\n",
        "            (B, d_model, H, W)\n",
        "        \"\"\"\n",
        "        assert x.shape[1] == self.pe.shape[0]  # type: ignore\n",
        "        x = x + self.pe[:, : x.size(2), : x.size(3)]  # type: ignore\n",
        "        return x\n",
        "\n",
        "\n",
        "class PositionalEncoding1D(nn.Module):\n",
        "    \"\"\"Classic Attention-is-all-you-need positional encoding.\"\"\"\n",
        "\n",
        "    def __init__(self, d_model: int, dropout: float = 0.1, max_len: int = 5000) -> None:\n",
        "        super().__init__()\n",
        "        self.dropout = nn.Dropout(p=dropout)\n",
        "        pe = self.make_pe(d_model, max_len)  # (max_len, 1, d_model)\n",
        "        self.register_buffer(\"pe\", pe)\n",
        "\n",
        "    @staticmethod\n",
        "    def make_pe(d_model: int, max_len: int) -> Tensor:\n",
        "        \"\"\"Compute positional encoding.\"\"\"\n",
        "        pe = torch.zeros(max_len, d_model)\n",
        "        position = torch.arange(0, max_len, dtype=torch.float).unsqueeze(1)\n",
        "        div_term = torch.exp(torch.arange(0, d_model, 2).float() * (-math.log(10000.0) / d_model))\n",
        "        pe[:, 0::2] = torch.sin(position * div_term)\n",
        "        pe[:, 1::2] = torch.cos(position * div_term)\n",
        "        pe = pe.unsqueeze(1)\n",
        "        return pe\n",
        "\n",
        "    def forward(self, x: Tensor) -> Tensor:\n",
        "        \"\"\"Forward pass.\n",
        "\n",
        "        Args:\n",
        "            x: (S, B, d_model)\n",
        "\n",
        "        Returns:\n",
        "            (B, d_model, H, W)\n",
        "        \"\"\"\n",
        "        assert x.shape[2] == self.pe.shape[2]  # type: ignore\n",
        "        x = x + self.pe[: x.size(0)]  # type: ignore\n",
        "        return self.dropout(x)"
      ]
    },
    {
      "cell_type": "code",
      "execution_count": null,
      "metadata": {
        "id": "M2x0z6CfndBp"
      },
      "outputs": [],
      "source": [
        "from typing import Union\n",
        "\n",
        "class ResNetTransformer(nn.Module):\n",
        "    def __init__(\n",
        "        self,\n",
        "        d_model: int,\n",
        "        dim_feedforward: int,\n",
        "        nhead: int,\n",
        "        dropout: float,\n",
        "        num_decoder_layers: int,\n",
        "        max_output_len: int,\n",
        "        sos_index: int,\n",
        "        eos_index: int,\n",
        "        pad_index: int,\n",
        "        num_classes: int,\n",
        "    ) -> None:\n",
        "        super().__init__()\n",
        "        self.d_model = d_model\n",
        "        self.max_output_len = max_output_len + 2\n",
        "        self.sos_index = sos_index\n",
        "        self.eos_index = eos_index\n",
        "        self.pad_index = pad_index\n",
        "\n",
        "        # Encoder\n",
        "        resnet = torchvision.models.resnet18(pretrained=False)\n",
        "        self.backbone = nn.Sequential(\n",
        "            resnet.conv1,\n",
        "            resnet.bn1,\n",
        "            resnet.relu,\n",
        "            resnet.maxpool,\n",
        "            resnet.layer1,\n",
        "            resnet.layer2,\n",
        "            resnet.layer3,\n",
        "        )\n",
        "        self.bottleneck = nn.Conv2d(256, self.d_model, 1)\n",
        "        self.image_positional_encoder = PositionalEncoding2D(self.d_model)\n",
        "\n",
        "        # Decoder\n",
        "        self.embedding = nn.Embedding(num_classes, self.d_model)\n",
        "        self.y_mask = generate_square_subsequent_mask(self.max_output_len)\n",
        "        self.word_positional_encoder = PositionalEncoding1D(self.d_model, max_len=self.max_output_len)\n",
        "        transformer_decoder_layer = nn.TransformerDecoderLayer(self.d_model, nhead, dim_feedforward, dropout)\n",
        "        self.transformer_decoder = nn.TransformerDecoder(transformer_decoder_layer, num_decoder_layers)\n",
        "        self.fc = nn.Linear(self.d_model, num_classes)\n",
        "\n",
        "        # It is empirically important to initialize weights properly\n",
        "        if self.training:\n",
        "            self._init_weights()\n",
        "\n",
        "    def _init_weights(self) -> None:\n",
        "        \"\"\"Initialize weights.\"\"\"\n",
        "        init_range = 0.1\n",
        "        self.embedding.weight.data.uniform_(-init_range, init_range)\n",
        "        self.fc.bias.data.zero_()\n",
        "        self.fc.weight.data.uniform_(-init_range, init_range)\n",
        "\n",
        "        nn.init.kaiming_normal_(\n",
        "            self.bottleneck.weight.data,\n",
        "            a=0,\n",
        "            mode=\"fan_out\",\n",
        "            nonlinearity=\"relu\",\n",
        "        )\n",
        "        if self.bottleneck.bias is not None:\n",
        "            _, fan_out = nn.init._calculate_fan_in_and_fan_out(self.bottleneck.weight.data)\n",
        "            bound = 1 / math.sqrt(fan_out)\n",
        "            nn.init.normal_(self.bottleneck.bias, -bound, bound)\n",
        "\n",
        "    def forward(self, x: Tensor, y: Tensor) -> Tensor:\n",
        "        \"\"\"Forward pass.\n",
        "\n",
        "        Args:\n",
        "            x: (B, _E, _H, _W)\n",
        "            y: (B, Sy) with elements in (0, num_classes - 1)\n",
        "\n",
        "        Returns:\n",
        "            (B, num_classes, Sy) logits\n",
        "        \"\"\"\n",
        "        encoded_x = self.encode(x)  # (Sx, B, E)\n",
        "        output = self.decode(y, encoded_x)  # (Sy, B, num_classes)\n",
        "        output = output.permute(1, 2, 0)  # (B, num_classes, Sy)\n",
        "        return output\n",
        "\n",
        "    def encode(self, x: Tensor) -> Tensor:\n",
        "        \"\"\"Encode inputs and extract feature maps for visualization.\n",
        "\n",
        "        Args:\n",
        "            x: (B, C, _H, _W) - Input images\n",
        "\n",
        "        Returns:\n",
        "            encoded_x: (Sx, B, E) - Encoded sequence from ResNet\n",
        "            feature_maps: (B, 256, H, W) - Feature maps from ResNet before bottleneck\n",
        "        \"\"\"\n",
        "        if x.shape[1] == 1:\n",
        "            x = x.repeat(1, 3, 1, 1)  # Convert grayscale to 3-channel if needed\n",
        "\n",
        "        x = self.backbone(x)  # Extract features from ResNet backbone\n",
        "        feature_maps = x.clone()  # Save feature maps before bottleneck\n",
        "        x = self.bottleneck(x)  # Apply bottleneck layer\n",
        "        x = self.image_positional_encoder(x)  # Apply positional encoding\n",
        "        x = x.flatten(start_dim=2).permute(2, 0, 1)  # Reshape to (Sx, B, E)\n",
        "\n",
        "        return x, feature_maps\n",
        "\n",
        "    def decode(self, y: Tensor, encoded_x: Tensor) -> Tensor:\n",
        "        \"\"\"Decode encoded inputs with teacher-forcing.\n",
        "\n",
        "        Args:\n",
        "            encoded_x: (Sx, B, E)\n",
        "            y: (B, Sy) with elements in (0, num_classes - 1)\n",
        "\n",
        "        Returns:\n",
        "            (Sy, B, num_classes) logits\n",
        "        \"\"\"\n",
        "        y = y.permute(1, 0)  # (Sy, B)\n",
        "        y = self.embedding(y) * math.sqrt(self.d_model)  # (Sy, B, E)\n",
        "        y = self.word_positional_encoder(y)  # (Sy, B, E)\n",
        "        Sy = y.shape[0]\n",
        "        y_mask = self.y_mask[:Sy, :Sy].type_as(encoded_x)  # (Sy, Sy)\n",
        "        output = self.transformer_decoder(y, encoded_x, y_mask)  # (Sy, B, E)\n",
        "        output = self.fc(output)  # (Sy, B, num_classes)\n",
        "        return output\n",
        "\n",
        "    def predict(self, x: Tensor) -> Tensor:\n",
        "        \"\"\"Make predctions at inference time.\n",
        "\n",
        "        Args:\n",
        "            x: (B, C, H, W). Input images.\n",
        "\n",
        "        Returns:\n",
        "            (B, max_output_len) with elements in (0, num_classes - 1).\n",
        "        \"\"\"\n",
        "        B = x.shape[0]\n",
        "        S = self.max_output_len\n",
        "\n",
        "        encoded_x = self.encode(x)  # (Sx, B, E)\n",
        "\n",
        "        output_indices = torch.full((B, S), self.pad_index).type_as(x).long()\n",
        "        output_indices[:, 0] = self.sos_index\n",
        "        has_ended = torch.full((B,), False)\n",
        "\n",
        "        for Sy in range(1, S):\n",
        "            y = output_indices[:, :Sy]  # (B, Sy)\n",
        "            logits = self.decode(y, encoded_x)  # (Sy, B, num_classes)\n",
        "            # Select the token with the highest conditional probability\n",
        "            output = torch.argmax(logits, dim=-1)  # (Sy, B)\n",
        "            output_indices[:, Sy] = output[-1:]  # Set the last output token\n",
        "\n",
        "            # Early stopping of prediction loop to speed up prediction\n",
        "            has_ended |= (output_indices[:, Sy] == self.eos_index).type_as(has_ended)\n",
        "            if torch.all(has_ended):\n",
        "                break\n",
        "\n",
        "        # Set all tokens after end token to be padding\n",
        "        eos_positions = find_first(output_indices, self.eos_index)\n",
        "        for i in range(B):\n",
        "            j = int(eos_positions[i].item()) + 1\n",
        "            output_indices[i, j:] = self.pad_index\n",
        "\n",
        "        return output_indices\n",
        "\n",
        "\n",
        "def generate_square_subsequent_mask(size: int) -> Tensor:\n",
        "    \"\"\"Generate a triangular (size, size) mask.\"\"\"\n",
        "    mask = (torch.triu(torch.ones(size, size)) == 1).transpose(0, 1)\n",
        "    mask = mask.float().masked_fill(mask == 0, float(\"-inf\")).masked_fill(mask == 1, float(0.0))\n",
        "    return mask\n",
        "\n",
        "\n",
        "def find_first(x: Tensor, element: Union[int, float], dim: int = 1) -> Tensor:\n",
        "    \"\"\"Find the first occurence of element in x along a given dimension.\n",
        "\n",
        "    Args:\n",
        "        x: The input tensor to be searched.\n",
        "        element: The number to look for.\n",
        "        dim: The dimension to reduce.\n",
        "\n",
        "    Returns:\n",
        "        Indices of the first occurence of the element in x. If not found, return the\n",
        "        length of x along dim.\n",
        "\n",
        "    Usage:\n",
        "        >>> first_element(Tensor([[1, 2, 3], [2, 3, 3], [1, 1, 1]]), 3)\n",
        "        tensor([2, 1, 3])\n",
        "\n",
        "    Reference:\n",
        "        https://discuss.pytorch.org/t/first-nonzero-index/24769/9\n",
        "\n",
        "        I fixed an edge case where the element we are looking for is at index 0. The\n",
        "        original algorithm will return the length of x instead of 0.\n",
        "    \"\"\"\n",
        "    mask = x == element\n",
        "    found, indices = ((mask.cumsum(dim) == 1) & mask).max(dim)\n",
        "    indices[(~found) & (indices == 0)] = x.shape[dim]\n",
        "    return indices"
      ]
    },
    {
      "cell_type": "markdown",
      "metadata": {
        "id": "p1Bc6eSSvPTY"
      },
      "source": [
        "# **🔴Train**"
      ]
    },
    {
      "cell_type": "code",
      "execution_count": null,
      "metadata": {
        "id": "BF7O9jDYGfhe"
      },
      "outputs": [],
      "source": [
        "wandb.finish()"
      ]
    },
    {
      "cell_type": "code",
      "execution_count": null,
      "metadata": {
        "colab": {
          "base_uri": "https://localhost:8080/",
          "height": 356
        },
        "id": "FtKkBzkBuoUx",
        "outputId": "bcaa588e-47cc-4556-bb35-baacbebd7d03"
      },
      "outputs": [
        {
          "output_type": "error",
          "ename": "KeyboardInterrupt",
          "evalue": "",
          "traceback": [
            "\u001b[0;31m---------------------------------------------------------------------------\u001b[0m",
            "\u001b[0;31mKeyboardInterrupt\u001b[0m                         Traceback (most recent call last)",
            "\u001b[0;32m<ipython-input-27-39d4e8d30b34>\u001b[0m in \u001b[0;36m<cell line: 0>\u001b[0;34m()\u001b[0m\n\u001b[0;32m----> 1\u001b[0;31m \u001b[0mlit_model\u001b[0m \u001b[0;34m=\u001b[0m \u001b[0mLitResNetTransformer\u001b[0m\u001b[0;34m(\u001b[0m\u001b[0;34m**\u001b[0m\u001b[0mconfig\u001b[0m\u001b[0;34m[\u001b[0m\u001b[0;34m'lit_model'\u001b[0m\u001b[0;34m]\u001b[0m\u001b[0;34m)\u001b[0m\u001b[0;34m.\u001b[0m\u001b[0mto\u001b[0m\u001b[0;34m(\u001b[0m\u001b[0mdevice\u001b[0m\u001b[0;34m)\u001b[0m\u001b[0;34m\u001b[0m\u001b[0;34m\u001b[0m\u001b[0m\n\u001b[0m\u001b[1;32m      2\u001b[0m \u001b[0;34m\u001b[0m\u001b[0m\n\u001b[1;32m      3\u001b[0m \u001b[0mcallbacks\u001b[0m\u001b[0;34m:\u001b[0m \u001b[0mList\u001b[0m\u001b[0;34m[\u001b[0m\u001b[0mCallback\u001b[0m\u001b[0;34m]\u001b[0m \u001b[0;34m=\u001b[0m \u001b[0;34m[\u001b[0m\u001b[0;34m]\u001b[0m\u001b[0;34m\u001b[0m\u001b[0;34m\u001b[0m\u001b[0m\n\u001b[1;32m      4\u001b[0m \u001b[0mcallbacks\u001b[0m\u001b[0;34m.\u001b[0m\u001b[0mappend\u001b[0m\u001b[0;34m(\u001b[0m\u001b[0mModelCheckpoint\u001b[0m\u001b[0;34m(\u001b[0m\u001b[0;34m**\u001b[0m\u001b[0mconfig\u001b[0m\u001b[0;34m[\u001b[0m\u001b[0;34m'callbacks'\u001b[0m\u001b[0;34m]\u001b[0m\u001b[0;34m[\u001b[0m\u001b[0;34m'model_checkpoint'\u001b[0m\u001b[0;34m]\u001b[0m\u001b[0;34m)\u001b[0m\u001b[0;34m)\u001b[0m\u001b[0;34m\u001b[0m\u001b[0;34m\u001b[0m\u001b[0m\n\u001b[1;32m      5\u001b[0m \u001b[0mcallbacks\u001b[0m\u001b[0;34m.\u001b[0m\u001b[0mappend\u001b[0m\u001b[0;34m(\u001b[0m\u001b[0mEarlyStopping\u001b[0m\u001b[0;34m(\u001b[0m\u001b[0;34m**\u001b[0m\u001b[0mconfig\u001b[0m\u001b[0;34m[\u001b[0m\u001b[0;34m'callbacks'\u001b[0m\u001b[0;34m]\u001b[0m\u001b[0;34m[\u001b[0m\u001b[0;34m'early_stopping'\u001b[0m\u001b[0;34m]\u001b[0m\u001b[0;34m)\u001b[0m\u001b[0;34m)\u001b[0m\u001b[0;34m\u001b[0m\u001b[0;34m\u001b[0m\u001b[0m\n",
            "\u001b[0;32m/usr/local/lib/python3.11/dist-packages/lightning_fabric/utilities/device_dtype_mixin.py\u001b[0m in \u001b[0;36mto\u001b[0;34m(self, *args, **kwargs)\u001b[0m\n\u001b[1;32m     53\u001b[0m         \u001b[0mdevice\u001b[0m\u001b[0;34m,\u001b[0m \u001b[0mdtype\u001b[0m \u001b[0;34m=\u001b[0m \u001b[0mtorch\u001b[0m\u001b[0;34m.\u001b[0m\u001b[0m_C\u001b[0m\u001b[0;34m.\u001b[0m\u001b[0m_nn\u001b[0m\u001b[0;34m.\u001b[0m\u001b[0m_parse_to\u001b[0m\u001b[0;34m(\u001b[0m\u001b[0;34m*\u001b[0m\u001b[0margs\u001b[0m\u001b[0;34m,\u001b[0m \u001b[0;34m**\u001b[0m\u001b[0mkwargs\u001b[0m\u001b[0;34m)\u001b[0m\u001b[0;34m[\u001b[0m\u001b[0;34m:\u001b[0m\u001b[0;36m2\u001b[0m\u001b[0;34m]\u001b[0m\u001b[0;34m\u001b[0m\u001b[0;34m\u001b[0m\u001b[0m\n\u001b[1;32m     54\u001b[0m         \u001b[0m_update_properties\u001b[0m\u001b[0;34m(\u001b[0m\u001b[0mself\u001b[0m\u001b[0;34m,\u001b[0m \u001b[0mdevice\u001b[0m\u001b[0;34m=\u001b[0m\u001b[0mdevice\u001b[0m\u001b[0;34m,\u001b[0m \u001b[0mdtype\u001b[0m\u001b[0;34m=\u001b[0m\u001b[0mdtype\u001b[0m\u001b[0;34m)\u001b[0m\u001b[0;34m\u001b[0m\u001b[0;34m\u001b[0m\u001b[0m\n\u001b[0;32m---> 55\u001b[0;31m         \u001b[0;32mreturn\u001b[0m \u001b[0msuper\u001b[0m\u001b[0;34m(\u001b[0m\u001b[0;34m)\u001b[0m\u001b[0;34m.\u001b[0m\u001b[0mto\u001b[0m\u001b[0;34m(\u001b[0m\u001b[0;34m*\u001b[0m\u001b[0margs\u001b[0m\u001b[0;34m,\u001b[0m \u001b[0;34m**\u001b[0m\u001b[0mkwargs\u001b[0m\u001b[0;34m)\u001b[0m\u001b[0;34m\u001b[0m\u001b[0;34m\u001b[0m\u001b[0m\n\u001b[0m\u001b[1;32m     56\u001b[0m \u001b[0;34m\u001b[0m\u001b[0m\n\u001b[1;32m     57\u001b[0m     \u001b[0;34m@\u001b[0m\u001b[0moverride\u001b[0m\u001b[0;34m\u001b[0m\u001b[0;34m\u001b[0m\u001b[0m\n",
            "\u001b[0;32m/usr/local/lib/python3.11/dist-packages/torch/nn/modules/module.py\u001b[0m in \u001b[0;36mto\u001b[0;34m(self, *args, **kwargs)\u001b[0m\n\u001b[1;32m   1338\u001b[0m                     \u001b[0;32mraise\u001b[0m\u001b[0;34m\u001b[0m\u001b[0;34m\u001b[0m\u001b[0m\n\u001b[1;32m   1339\u001b[0m \u001b[0;34m\u001b[0m\u001b[0m\n\u001b[0;32m-> 1340\u001b[0;31m         \u001b[0;32mreturn\u001b[0m \u001b[0mself\u001b[0m\u001b[0;34m.\u001b[0m\u001b[0m_apply\u001b[0m\u001b[0;34m(\u001b[0m\u001b[0mconvert\u001b[0m\u001b[0;34m)\u001b[0m\u001b[0;34m\u001b[0m\u001b[0;34m\u001b[0m\u001b[0m\n\u001b[0m\u001b[1;32m   1341\u001b[0m \u001b[0;34m\u001b[0m\u001b[0m\n\u001b[1;32m   1342\u001b[0m     def register_full_backward_pre_hook(\n",
            "\u001b[0;32m/usr/local/lib/python3.11/dist-packages/torch/nn/modules/module.py\u001b[0m in \u001b[0;36m_apply\u001b[0;34m(self, fn, recurse)\u001b[0m\n\u001b[1;32m    898\u001b[0m         \u001b[0;32mif\u001b[0m \u001b[0mrecurse\u001b[0m\u001b[0;34m:\u001b[0m\u001b[0;34m\u001b[0m\u001b[0;34m\u001b[0m\u001b[0m\n\u001b[1;32m    899\u001b[0m             \u001b[0;32mfor\u001b[0m \u001b[0mmodule\u001b[0m \u001b[0;32min\u001b[0m \u001b[0mself\u001b[0m\u001b[0;34m.\u001b[0m\u001b[0mchildren\u001b[0m\u001b[0;34m(\u001b[0m\u001b[0;34m)\u001b[0m\u001b[0;34m:\u001b[0m\u001b[0;34m\u001b[0m\u001b[0;34m\u001b[0m\u001b[0m\n\u001b[0;32m--> 900\u001b[0;31m                 \u001b[0mmodule\u001b[0m\u001b[0;34m.\u001b[0m\u001b[0m_apply\u001b[0m\u001b[0;34m(\u001b[0m\u001b[0mfn\u001b[0m\u001b[0;34m)\u001b[0m\u001b[0;34m\u001b[0m\u001b[0;34m\u001b[0m\u001b[0m\n\u001b[0m\u001b[1;32m    901\u001b[0m \u001b[0;34m\u001b[0m\u001b[0m\n\u001b[1;32m    902\u001b[0m         \u001b[0;32mdef\u001b[0m \u001b[0mcompute_should_use_set_data\u001b[0m\u001b[0;34m(\u001b[0m\u001b[0mtensor\u001b[0m\u001b[0;34m,\u001b[0m \u001b[0mtensor_applied\u001b[0m\u001b[0;34m)\u001b[0m\u001b[0;34m:\u001b[0m\u001b[0;34m\u001b[0m\u001b[0;34m\u001b[0m\u001b[0m\n",
            "\u001b[0;32m/usr/local/lib/python3.11/dist-packages/torch/nn/modules/module.py\u001b[0m in \u001b[0;36m_apply\u001b[0;34m(self, fn, recurse)\u001b[0m\n\u001b[1;32m    898\u001b[0m         \u001b[0;32mif\u001b[0m \u001b[0mrecurse\u001b[0m\u001b[0;34m:\u001b[0m\u001b[0;34m\u001b[0m\u001b[0;34m\u001b[0m\u001b[0m\n\u001b[1;32m    899\u001b[0m             \u001b[0;32mfor\u001b[0m \u001b[0mmodule\u001b[0m \u001b[0;32min\u001b[0m \u001b[0mself\u001b[0m\u001b[0;34m.\u001b[0m\u001b[0mchildren\u001b[0m\u001b[0;34m(\u001b[0m\u001b[0;34m)\u001b[0m\u001b[0;34m:\u001b[0m\u001b[0;34m\u001b[0m\u001b[0;34m\u001b[0m\u001b[0m\n\u001b[0;32m--> 900\u001b[0;31m                 \u001b[0mmodule\u001b[0m\u001b[0;34m.\u001b[0m\u001b[0m_apply\u001b[0m\u001b[0;34m(\u001b[0m\u001b[0mfn\u001b[0m\u001b[0;34m)\u001b[0m\u001b[0;34m\u001b[0m\u001b[0;34m\u001b[0m\u001b[0m\n\u001b[0m\u001b[1;32m    901\u001b[0m \u001b[0;34m\u001b[0m\u001b[0m\n\u001b[1;32m    902\u001b[0m         \u001b[0;32mdef\u001b[0m \u001b[0mcompute_should_use_set_data\u001b[0m\u001b[0;34m(\u001b[0m\u001b[0mtensor\u001b[0m\u001b[0;34m,\u001b[0m \u001b[0mtensor_applied\u001b[0m\u001b[0;34m)\u001b[0m\u001b[0;34m:\u001b[0m\u001b[0;34m\u001b[0m\u001b[0;34m\u001b[0m\u001b[0m\n",
            "\u001b[0;32m/usr/local/lib/python3.11/dist-packages/torch/nn/modules/module.py\u001b[0m in \u001b[0;36m_apply\u001b[0;34m(self, fn, recurse)\u001b[0m\n\u001b[1;32m    986\u001b[0m         \u001b[0;32mfor\u001b[0m \u001b[0mkey\u001b[0m\u001b[0;34m,\u001b[0m \u001b[0mbuf\u001b[0m \u001b[0;32min\u001b[0m \u001b[0mself\u001b[0m\u001b[0;34m.\u001b[0m\u001b[0m_buffers\u001b[0m\u001b[0;34m.\u001b[0m\u001b[0mitems\u001b[0m\u001b[0;34m(\u001b[0m\u001b[0;34m)\u001b[0m\u001b[0;34m:\u001b[0m\u001b[0;34m\u001b[0m\u001b[0;34m\u001b[0m\u001b[0m\n\u001b[1;32m    987\u001b[0m             \u001b[0;32mif\u001b[0m \u001b[0mbuf\u001b[0m \u001b[0;32mis\u001b[0m \u001b[0;32mnot\u001b[0m \u001b[0;32mNone\u001b[0m\u001b[0;34m:\u001b[0m\u001b[0;34m\u001b[0m\u001b[0;34m\u001b[0m\u001b[0m\n\u001b[0;32m--> 988\u001b[0;31m                 \u001b[0mself\u001b[0m\u001b[0;34m.\u001b[0m\u001b[0m_buffers\u001b[0m\u001b[0;34m[\u001b[0m\u001b[0mkey\u001b[0m\u001b[0;34m]\u001b[0m \u001b[0;34m=\u001b[0m \u001b[0mfn\u001b[0m\u001b[0;34m(\u001b[0m\u001b[0mbuf\u001b[0m\u001b[0;34m)\u001b[0m\u001b[0;34m\u001b[0m\u001b[0;34m\u001b[0m\u001b[0m\n\u001b[0m\u001b[1;32m    989\u001b[0m \u001b[0;34m\u001b[0m\u001b[0m\n\u001b[1;32m    990\u001b[0m         \u001b[0;32mreturn\u001b[0m \u001b[0mself\u001b[0m\u001b[0;34m\u001b[0m\u001b[0;34m\u001b[0m\u001b[0m\n",
            "\u001b[0;32m/usr/local/lib/python3.11/dist-packages/torch/nn/modules/module.py\u001b[0m in \u001b[0;36mconvert\u001b[0;34m(t)\u001b[0m\n\u001b[1;32m   1324\u001b[0m                         \u001b[0mmemory_format\u001b[0m\u001b[0;34m=\u001b[0m\u001b[0mconvert_to_format\u001b[0m\u001b[0;34m,\u001b[0m\u001b[0;34m\u001b[0m\u001b[0;34m\u001b[0m\u001b[0m\n\u001b[1;32m   1325\u001b[0m                     )\n\u001b[0;32m-> 1326\u001b[0;31m                 return t.to(\n\u001b[0m\u001b[1;32m   1327\u001b[0m                     \u001b[0mdevice\u001b[0m\u001b[0;34m,\u001b[0m\u001b[0;34m\u001b[0m\u001b[0;34m\u001b[0m\u001b[0m\n\u001b[1;32m   1328\u001b[0m                     \u001b[0mdtype\u001b[0m \u001b[0;32mif\u001b[0m \u001b[0mt\u001b[0m\u001b[0;34m.\u001b[0m\u001b[0mis_floating_point\u001b[0m\u001b[0;34m(\u001b[0m\u001b[0;34m)\u001b[0m \u001b[0;32mor\u001b[0m \u001b[0mt\u001b[0m\u001b[0;34m.\u001b[0m\u001b[0mis_complex\u001b[0m\u001b[0;34m(\u001b[0m\u001b[0;34m)\u001b[0m \u001b[0;32melse\u001b[0m \u001b[0;32mNone\u001b[0m\u001b[0;34m,\u001b[0m\u001b[0;34m\u001b[0m\u001b[0;34m\u001b[0m\u001b[0m\n",
            "\u001b[0;31mKeyboardInterrupt\u001b[0m: "
          ]
        }
      ],
      "source": [
        "lit_model = LitResNetTransformer(**config['lit_model']).to(device)\n",
        "\n",
        "callbacks: List[Callback] = []\n",
        "callbacks.append(ModelCheckpoint(**config['callbacks']['model_checkpoint']))\n",
        "callbacks.append(EarlyStopping(**config['callbacks']['early_stopping']))\n",
        "callbacks.append(LearningRateMonitor(**config['callbacks']['LearningRateMonitor']))\n",
        "\n",
        "logger: Optional[WandbLogger] = None\n",
        "if config['logger']:\n",
        "  logger = WandbLogger(**config['logger'])\n",
        "\n",
        "trainer = Trainer(**config['trainer'], callbacks=callbacks, logger=logger)\n",
        "\n",
        "if trainer.logger:\n",
        "    trainer.logger.log_hyperparams(Namespace(**config))\n",
        "\n",
        "trainer.fit(lit_model, train_dataloaders=train_loader, val_dataloaders=valid_loader)"
      ]
    },
    {
      "cell_type": "markdown",
      "source": [
        "# **🎈Test on Test Loader**"
      ],
      "metadata": {
        "id": "oxtwyLDNs01_"
      }
    },
    {
      "cell_type": "code",
      "source": [
        "valid_loader = DataLoader(valid_dataset, batch_size=8, shuffle=True, collate_fn=collate_fn)\n",
        "test_loader = DataLoader(test_dataset, batch_size=8, shuffle=True, collate_fn=collate_fn)"
      ],
      "metadata": {
        "id": "B9kaUGRPs_q2"
      },
      "execution_count": null,
      "outputs": []
    },
    {
      "cell_type": "code",
      "source": [
        "lit_model = LitResNetTransformer.load_from_checkpoint('/content/drive/MyDrive/papersFolder/model_checkpoints/epoch=17-val/loss=0.12-val/cer=0.05_0.12_v_0_1.ckpt', map_location=device)\n",
        "lit_model.eval()"
      ],
      "metadata": {
        "collapsed": true,
        "colab": {
          "base_uri": "https://localhost:8080/"
        },
        "id": "wAUO6dmGs-mB",
        "outputId": "d8516555-2427-4259-d53a-efb746466ed3"
      },
      "execution_count": null,
      "outputs": [
        {
          "output_type": "execute_result",
          "data": {
            "text/plain": [
              "LitResNetTransformer(\n",
              "  (model): ResNetTransformer(\n",
              "    (backbone): Sequential(\n",
              "      (0): Conv2d(3, 64, kernel_size=(7, 7), stride=(2, 2), padding=(3, 3), bias=False)\n",
              "      (1): BatchNorm2d(64, eps=1e-05, momentum=0.1, affine=True, track_running_stats=True)\n",
              "      (2): ReLU(inplace=True)\n",
              "      (3): MaxPool2d(kernel_size=3, stride=2, padding=1, dilation=1, ceil_mode=False)\n",
              "      (4): Sequential(\n",
              "        (0): BasicBlock(\n",
              "          (conv1): Conv2d(64, 64, kernel_size=(3, 3), stride=(1, 1), padding=(1, 1), bias=False)\n",
              "          (bn1): BatchNorm2d(64, eps=1e-05, momentum=0.1, affine=True, track_running_stats=True)\n",
              "          (relu): ReLU(inplace=True)\n",
              "          (conv2): Conv2d(64, 64, kernel_size=(3, 3), stride=(1, 1), padding=(1, 1), bias=False)\n",
              "          (bn2): BatchNorm2d(64, eps=1e-05, momentum=0.1, affine=True, track_running_stats=True)\n",
              "        )\n",
              "        (1): BasicBlock(\n",
              "          (conv1): Conv2d(64, 64, kernel_size=(3, 3), stride=(1, 1), padding=(1, 1), bias=False)\n",
              "          (bn1): BatchNorm2d(64, eps=1e-05, momentum=0.1, affine=True, track_running_stats=True)\n",
              "          (relu): ReLU(inplace=True)\n",
              "          (conv2): Conv2d(64, 64, kernel_size=(3, 3), stride=(1, 1), padding=(1, 1), bias=False)\n",
              "          (bn2): BatchNorm2d(64, eps=1e-05, momentum=0.1, affine=True, track_running_stats=True)\n",
              "        )\n",
              "      )\n",
              "      (5): Sequential(\n",
              "        (0): BasicBlock(\n",
              "          (conv1): Conv2d(64, 128, kernel_size=(3, 3), stride=(2, 2), padding=(1, 1), bias=False)\n",
              "          (bn1): BatchNorm2d(128, eps=1e-05, momentum=0.1, affine=True, track_running_stats=True)\n",
              "          (relu): ReLU(inplace=True)\n",
              "          (conv2): Conv2d(128, 128, kernel_size=(3, 3), stride=(1, 1), padding=(1, 1), bias=False)\n",
              "          (bn2): BatchNorm2d(128, eps=1e-05, momentum=0.1, affine=True, track_running_stats=True)\n",
              "          (downsample): Sequential(\n",
              "            (0): Conv2d(64, 128, kernel_size=(1, 1), stride=(2, 2), bias=False)\n",
              "            (1): BatchNorm2d(128, eps=1e-05, momentum=0.1, affine=True, track_running_stats=True)\n",
              "          )\n",
              "        )\n",
              "        (1): BasicBlock(\n",
              "          (conv1): Conv2d(128, 128, kernel_size=(3, 3), stride=(1, 1), padding=(1, 1), bias=False)\n",
              "          (bn1): BatchNorm2d(128, eps=1e-05, momentum=0.1, affine=True, track_running_stats=True)\n",
              "          (relu): ReLU(inplace=True)\n",
              "          (conv2): Conv2d(128, 128, kernel_size=(3, 3), stride=(1, 1), padding=(1, 1), bias=False)\n",
              "          (bn2): BatchNorm2d(128, eps=1e-05, momentum=0.1, affine=True, track_running_stats=True)\n",
              "        )\n",
              "      )\n",
              "      (6): Sequential(\n",
              "        (0): BasicBlock(\n",
              "          (conv1): Conv2d(128, 256, kernel_size=(3, 3), stride=(2, 2), padding=(1, 1), bias=False)\n",
              "          (bn1): BatchNorm2d(256, eps=1e-05, momentum=0.1, affine=True, track_running_stats=True)\n",
              "          (relu): ReLU(inplace=True)\n",
              "          (conv2): Conv2d(256, 256, kernel_size=(3, 3), stride=(1, 1), padding=(1, 1), bias=False)\n",
              "          (bn2): BatchNorm2d(256, eps=1e-05, momentum=0.1, affine=True, track_running_stats=True)\n",
              "          (downsample): Sequential(\n",
              "            (0): Conv2d(128, 256, kernel_size=(1, 1), stride=(2, 2), bias=False)\n",
              "            (1): BatchNorm2d(256, eps=1e-05, momentum=0.1, affine=True, track_running_stats=True)\n",
              "          )\n",
              "        )\n",
              "        (1): BasicBlock(\n",
              "          (conv1): Conv2d(256, 256, kernel_size=(3, 3), stride=(1, 1), padding=(1, 1), bias=False)\n",
              "          (bn1): BatchNorm2d(256, eps=1e-05, momentum=0.1, affine=True, track_running_stats=True)\n",
              "          (relu): ReLU(inplace=True)\n",
              "          (conv2): Conv2d(256, 256, kernel_size=(3, 3), stride=(1, 1), padding=(1, 1), bias=False)\n",
              "          (bn2): BatchNorm2d(256, eps=1e-05, momentum=0.1, affine=True, track_running_stats=True)\n",
              "        )\n",
              "      )\n",
              "    )\n",
              "    (bottleneck): Conv2d(256, 128, kernel_size=(1, 1), stride=(1, 1))\n",
              "    (image_positional_encoder): PositionalEncoding2D()\n",
              "    (embedding): Embedding(156, 128)\n",
              "    (word_positional_encoder): PositionalEncoding1D(\n",
              "      (dropout): Dropout(p=0.1, inplace=False)\n",
              "    )\n",
              "    (transformer_decoder): TransformerDecoder(\n",
              "      (layers): ModuleList(\n",
              "        (0-2): 3 x TransformerDecoderLayer(\n",
              "          (self_attn): MultiheadAttention(\n",
              "            (out_proj): NonDynamicallyQuantizableLinear(in_features=128, out_features=128, bias=True)\n",
              "          )\n",
              "          (multihead_attn): MultiheadAttention(\n",
              "            (out_proj): NonDynamicallyQuantizableLinear(in_features=128, out_features=128, bias=True)\n",
              "          )\n",
              "          (linear1): Linear(in_features=128, out_features=256, bias=True)\n",
              "          (dropout): Dropout(p=0, inplace=False)\n",
              "          (linear2): Linear(in_features=256, out_features=128, bias=True)\n",
              "          (norm1): LayerNorm((128,), eps=1e-05, elementwise_affine=True)\n",
              "          (norm2): LayerNorm((128,), eps=1e-05, elementwise_affine=True)\n",
              "          (norm3): LayerNorm((128,), eps=1e-05, elementwise_affine=True)\n",
              "          (dropout1): Dropout(p=0, inplace=False)\n",
              "          (dropout2): Dropout(p=0, inplace=False)\n",
              "          (dropout3): Dropout(p=0, inplace=False)\n",
              "        )\n",
              "      )\n",
              "    )\n",
              "    (fc): Linear(in_features=128, out_features=156, bias=True)\n",
              "  )\n",
              "  (loss_fn): CrossEntropyLoss()\n",
              "  (val_cer): CharacterErrorRate()\n",
              "  (test_cer): CharacterErrorRate()\n",
              ")"
            ]
          },
          "metadata": {},
          "execution_count": 29
        }
      ]
    },
    {
      "cell_type": "code",
      "source": [
        "trainer = Trainer(**config['trainer'])\n",
        "valid_results = trainer.test(lit_model, dataloaders=valid_loader)\n",
        "\n",
        "print(f\"Valid CER: {valid_results[0]['test/cer']:.4f}\")"
      ],
      "metadata": {
        "colab": {
          "base_uri": "https://localhost:8080/",
          "height": 259,
          "referenced_widgets": [
            "48657354bd814728ae423e1afa4efc94",
            "9d3f149e9e094ec2b6e1dd6ae1198bc5",
            "d9ee85ec058e4ffaa2d25b80c3bfb6c1",
            "c68bc45bc2264c838e6707906089d393",
            "99db236650874d6a8e81d41a51bbe7c6",
            "3cda128b560946cf98aa30f8d6040f18",
            "b996528082094a0a89d8130f7d42c85c",
            "006ce84de2d34ae581ba250781f18322",
            "e12e50898a654746843a850fae8350c1",
            "a6db5222eb7a45088211b59bd34d7719",
            "cb5b0debbfd046b986cd7709f9edc7cd"
          ]
        },
        "id": "GT-02GwfvrUf",
        "outputId": "aa3ad503-eb5d-4d83-c1da-3b8e5e2edc11"
      },
      "execution_count": null,
      "outputs": [
        {
          "output_type": "stream",
          "name": "stderr",
          "text": [
            "INFO:pytorch_lightning.utilities.rank_zero:GPU available: True (cuda), used: True\n",
            "INFO:pytorch_lightning.utilities.rank_zero:TPU available: False, using: 0 TPU cores\n",
            "INFO:pytorch_lightning.utilities.rank_zero:HPU available: False, using: 0 HPUs\n",
            "INFO:pytorch_lightning.utilities.rank_zero:You are using a CUDA device ('NVIDIA A100-SXM4-40GB') that has Tensor Cores. To properly utilize them, you should set `torch.set_float32_matmul_precision('medium' | 'high')` which will trade-off precision for performance. For more details, read https://pytorch.org/docs/stable/generated/torch.set_float32_matmul_precision.html#torch.set_float32_matmul_precision\n",
            "INFO:pytorch_lightning.accelerators.cuda:LOCAL_RANK: 0 - CUDA_VISIBLE_DEVICES: [0]\n"
          ]
        },
        {
          "output_type": "display_data",
          "data": {
            "text/plain": [
              "Testing: |          | 0/? [00:00<?, ?it/s]"
            ],
            "application/vnd.jupyter.widget-view+json": {
              "version_major": 2,
              "version_minor": 0,
              "model_id": "48657354bd814728ae423e1afa4efc94"
            }
          },
          "metadata": {}
        },
        {
          "output_type": "display_data",
          "data": {
            "text/plain": [
              "┏━━━━━━━━━━━━━━━━━━━━━━━━━━━┳━━━━━━━━━━━━━━━━━━━━━━━━━━━┓\n",
              "┃\u001b[1m \u001b[0m\u001b[1m       Test metric       \u001b[0m\u001b[1m \u001b[0m┃\u001b[1m \u001b[0m\u001b[1m      DataLoader 0       \u001b[0m\u001b[1m \u001b[0m┃\n",
              "┡━━━━━━━━━━━━━━━━━━━━━━━━━━━╇━━━━━━━━━━━━━━━━━━━━━━━━━━━┩\n",
              "│\u001b[36m \u001b[0m\u001b[36m        test/cer         \u001b[0m\u001b[36m \u001b[0m│\u001b[35m \u001b[0m\u001b[35m  0.025387462228536606   \u001b[0m\u001b[35m \u001b[0m│\n",
              "└───────────────────────────┴───────────────────────────┘\n"
            ],
            "text/html": [
              "<pre style=\"white-space:pre;overflow-x:auto;line-height:normal;font-family:Menlo,'DejaVu Sans Mono',consolas,'Courier New',monospace\">┏━━━━━━━━━━━━━━━━━━━━━━━━━━━┳━━━━━━━━━━━━━━━━━━━━━━━━━━━┓\n",
              "┃<span style=\"font-weight: bold\">        Test metric        </span>┃<span style=\"font-weight: bold\">       DataLoader 0        </span>┃\n",
              "┡━━━━━━━━━━━━━━━━━━━━━━━━━━━╇━━━━━━━━━━━━━━━━━━━━━━━━━━━┩\n",
              "│<span style=\"color: #008080; text-decoration-color: #008080\">         test/cer          </span>│<span style=\"color: #800080; text-decoration-color: #800080\">   0.025387462228536606    </span>│\n",
              "└───────────────────────────┴───────────────────────────┘\n",
              "</pre>\n"
            ]
          },
          "metadata": {}
        },
        {
          "output_type": "stream",
          "name": "stdout",
          "text": [
            "Valid CER: 0.0254\n"
          ]
        }
      ]
    },
    {
      "cell_type": "code",
      "source": [
        "trainer = Trainer(**config['trainer'])\n",
        "test_results = trainer.test(lit_model, dataloaders=test_loader)\n",
        "\n",
        "print(f\"Test CER: {test_results[0]['test/cer']:.4f}\")"
      ],
      "metadata": {
        "id": "ogt2X37Pz4uz",
        "outputId": "89278993-5ce7-4e86-d289-d2cd46b20f66",
        "colab": {
          "base_uri": "https://localhost:8080/",
          "height": 221,
          "referenced_widgets": [
            "ced6f41363e0419f83d4c4d894c61293",
            "cb595cf806b44e57b8126aa3a10ed5df",
            "a9c08a55bab847f7ab33d467004af7a2",
            "04cf9334f7624adcb01534060fc22d09",
            "ae8c5ebbae8d46658efd1baf8cda9d28",
            "a2070aa686f647aba5fc3279a252862e",
            "aa88e5f2f84b4cf7be891965378f0dc2",
            "0d0a6beaeb154a4eac04f0c588494528",
            "6ce831476778431d91b7e8297ba5709a",
            "55bb87ea6434464db4a8e98f202d48de",
            "f122d5e0ad8b42f7b4eb781adce4b675"
          ]
        }
      },
      "execution_count": null,
      "outputs": [
        {
          "output_type": "stream",
          "name": "stderr",
          "text": [
            "INFO:pytorch_lightning.utilities.rank_zero:GPU available: True (cuda), used: True\n",
            "INFO:pytorch_lightning.utilities.rank_zero:TPU available: False, using: 0 TPU cores\n",
            "INFO:pytorch_lightning.utilities.rank_zero:HPU available: False, using: 0 HPUs\n",
            "INFO:pytorch_lightning.accelerators.cuda:LOCAL_RANK: 0 - CUDA_VISIBLE_DEVICES: [0]\n"
          ]
        },
        {
          "output_type": "display_data",
          "data": {
            "text/plain": [
              "Testing: |          | 0/? [00:00<?, ?it/s]"
            ],
            "application/vnd.jupyter.widget-view+json": {
              "version_major": 2,
              "version_minor": 0,
              "model_id": "ced6f41363e0419f83d4c4d894c61293"
            }
          },
          "metadata": {}
        },
        {
          "output_type": "display_data",
          "data": {
            "text/plain": [
              "┏━━━━━━━━━━━━━━━━━━━━━━━━━━━┳━━━━━━━━━━━━━━━━━━━━━━━━━━━┓\n",
              "┃\u001b[1m \u001b[0m\u001b[1m       Test metric       \u001b[0m\u001b[1m \u001b[0m┃\u001b[1m \u001b[0m\u001b[1m      DataLoader 0       \u001b[0m\u001b[1m \u001b[0m┃\n",
              "┡━━━━━━━━━━━━━━━━━━━━━━━━━━━╇━━━━━━━━━━━━━━━━━━━━━━━━━━━┩\n",
              "│\u001b[36m \u001b[0m\u001b[36m        test/cer         \u001b[0m\u001b[36m \u001b[0m│\u001b[35m \u001b[0m\u001b[35m   0.06705634295940399   \u001b[0m\u001b[35m \u001b[0m│\n",
              "└───────────────────────────┴───────────────────────────┘\n"
            ],
            "text/html": [
              "<pre style=\"white-space:pre;overflow-x:auto;line-height:normal;font-family:Menlo,'DejaVu Sans Mono',consolas,'Courier New',monospace\">┏━━━━━━━━━━━━━━━━━━━━━━━━━━━┳━━━━━━━━━━━━━━━━━━━━━━━━━━━┓\n",
              "┃<span style=\"font-weight: bold\">        Test metric        </span>┃<span style=\"font-weight: bold\">       DataLoader 0        </span>┃\n",
              "┡━━━━━━━━━━━━━━━━━━━━━━━━━━━╇━━━━━━━━━━━━━━━━━━━━━━━━━━━┩\n",
              "│<span style=\"color: #008080; text-decoration-color: #008080\">         test/cer          </span>│<span style=\"color: #800080; text-decoration-color: #800080\">    0.06705634295940399    </span>│\n",
              "└───────────────────────────┴───────────────────────────┘\n",
              "</pre>\n"
            ]
          },
          "metadata": {}
        },
        {
          "output_type": "stream",
          "name": "stdout",
          "text": [
            "Test CER: 0.0671\n"
          ]
        }
      ]
    },
    {
      "cell_type": "markdown",
      "source": [
        "# **🔴test on loaded image**"
      ],
      "metadata": {
        "id": "HYrGbUHT0yrJ"
      }
    },
    {
      "cell_type": "code",
      "source": [
        "lit_model = LitResNetTransformer.load_from_checkpoint('/content/drive/MyDrive/papersFolder/model_checkpoints/epoch=17-val/loss=0.12-val/cer=0.05_0.12_v_0_1.ckpt', map_location=device)\n",
        "lit_model.eval()\n"
      ],
      "metadata": {
        "collapsed": true,
        "id": "kkwJGRwLGCJl",
        "outputId": "02b6005b-c8ac-4126-fe3d-62bdd5f48cbb",
        "colab": {
          "base_uri": "https://localhost:8080/"
        }
      },
      "execution_count": null,
      "outputs": [
        {
          "output_type": "execute_result",
          "data": {
            "text/plain": [
              "LitResNetTransformer(\n",
              "  (model): ResNetTransformer(\n",
              "    (backbone): Sequential(\n",
              "      (0): Conv2d(3, 64, kernel_size=(7, 7), stride=(2, 2), padding=(3, 3), bias=False)\n",
              "      (1): BatchNorm2d(64, eps=1e-05, momentum=0.1, affine=True, track_running_stats=True)\n",
              "      (2): ReLU(inplace=True)\n",
              "      (3): MaxPool2d(kernel_size=3, stride=2, padding=1, dilation=1, ceil_mode=False)\n",
              "      (4): Sequential(\n",
              "        (0): BasicBlock(\n",
              "          (conv1): Conv2d(64, 64, kernel_size=(3, 3), stride=(1, 1), padding=(1, 1), bias=False)\n",
              "          (bn1): BatchNorm2d(64, eps=1e-05, momentum=0.1, affine=True, track_running_stats=True)\n",
              "          (relu): ReLU(inplace=True)\n",
              "          (conv2): Conv2d(64, 64, kernel_size=(3, 3), stride=(1, 1), padding=(1, 1), bias=False)\n",
              "          (bn2): BatchNorm2d(64, eps=1e-05, momentum=0.1, affine=True, track_running_stats=True)\n",
              "        )\n",
              "        (1): BasicBlock(\n",
              "          (conv1): Conv2d(64, 64, kernel_size=(3, 3), stride=(1, 1), padding=(1, 1), bias=False)\n",
              "          (bn1): BatchNorm2d(64, eps=1e-05, momentum=0.1, affine=True, track_running_stats=True)\n",
              "          (relu): ReLU(inplace=True)\n",
              "          (conv2): Conv2d(64, 64, kernel_size=(3, 3), stride=(1, 1), padding=(1, 1), bias=False)\n",
              "          (bn2): BatchNorm2d(64, eps=1e-05, momentum=0.1, affine=True, track_running_stats=True)\n",
              "        )\n",
              "      )\n",
              "      (5): Sequential(\n",
              "        (0): BasicBlock(\n",
              "          (conv1): Conv2d(64, 128, kernel_size=(3, 3), stride=(2, 2), padding=(1, 1), bias=False)\n",
              "          (bn1): BatchNorm2d(128, eps=1e-05, momentum=0.1, affine=True, track_running_stats=True)\n",
              "          (relu): ReLU(inplace=True)\n",
              "          (conv2): Conv2d(128, 128, kernel_size=(3, 3), stride=(1, 1), padding=(1, 1), bias=False)\n",
              "          (bn2): BatchNorm2d(128, eps=1e-05, momentum=0.1, affine=True, track_running_stats=True)\n",
              "          (downsample): Sequential(\n",
              "            (0): Conv2d(64, 128, kernel_size=(1, 1), stride=(2, 2), bias=False)\n",
              "            (1): BatchNorm2d(128, eps=1e-05, momentum=0.1, affine=True, track_running_stats=True)\n",
              "          )\n",
              "        )\n",
              "        (1): BasicBlock(\n",
              "          (conv1): Conv2d(128, 128, kernel_size=(3, 3), stride=(1, 1), padding=(1, 1), bias=False)\n",
              "          (bn1): BatchNorm2d(128, eps=1e-05, momentum=0.1, affine=True, track_running_stats=True)\n",
              "          (relu): ReLU(inplace=True)\n",
              "          (conv2): Conv2d(128, 128, kernel_size=(3, 3), stride=(1, 1), padding=(1, 1), bias=False)\n",
              "          (bn2): BatchNorm2d(128, eps=1e-05, momentum=0.1, affine=True, track_running_stats=True)\n",
              "        )\n",
              "      )\n",
              "      (6): Sequential(\n",
              "        (0): BasicBlock(\n",
              "          (conv1): Conv2d(128, 256, kernel_size=(3, 3), stride=(2, 2), padding=(1, 1), bias=False)\n",
              "          (bn1): BatchNorm2d(256, eps=1e-05, momentum=0.1, affine=True, track_running_stats=True)\n",
              "          (relu): ReLU(inplace=True)\n",
              "          (conv2): Conv2d(256, 256, kernel_size=(3, 3), stride=(1, 1), padding=(1, 1), bias=False)\n",
              "          (bn2): BatchNorm2d(256, eps=1e-05, momentum=0.1, affine=True, track_running_stats=True)\n",
              "          (downsample): Sequential(\n",
              "            (0): Conv2d(128, 256, kernel_size=(1, 1), stride=(2, 2), bias=False)\n",
              "            (1): BatchNorm2d(256, eps=1e-05, momentum=0.1, affine=True, track_running_stats=True)\n",
              "          )\n",
              "        )\n",
              "        (1): BasicBlock(\n",
              "          (conv1): Conv2d(256, 256, kernel_size=(3, 3), stride=(1, 1), padding=(1, 1), bias=False)\n",
              "          (bn1): BatchNorm2d(256, eps=1e-05, momentum=0.1, affine=True, track_running_stats=True)\n",
              "          (relu): ReLU(inplace=True)\n",
              "          (conv2): Conv2d(256, 256, kernel_size=(3, 3), stride=(1, 1), padding=(1, 1), bias=False)\n",
              "          (bn2): BatchNorm2d(256, eps=1e-05, momentum=0.1, affine=True, track_running_stats=True)\n",
              "        )\n",
              "      )\n",
              "    )\n",
              "    (bottleneck): Conv2d(256, 128, kernel_size=(1, 1), stride=(1, 1))\n",
              "    (image_positional_encoder): PositionalEncoding2D()\n",
              "    (embedding): Embedding(156, 128)\n",
              "    (word_positional_encoder): PositionalEncoding1D(\n",
              "      (dropout): Dropout(p=0.1, inplace=False)\n",
              "    )\n",
              "    (transformer_decoder): TransformerDecoder(\n",
              "      (layers): ModuleList(\n",
              "        (0-2): 3 x TransformerDecoderLayer(\n",
              "          (self_attn): MultiheadAttention(\n",
              "            (out_proj): NonDynamicallyQuantizableLinear(in_features=128, out_features=128, bias=True)\n",
              "          )\n",
              "          (multihead_attn): MultiheadAttention(\n",
              "            (out_proj): NonDynamicallyQuantizableLinear(in_features=128, out_features=128, bias=True)\n",
              "          )\n",
              "          (linear1): Linear(in_features=128, out_features=256, bias=True)\n",
              "          (dropout): Dropout(p=0, inplace=False)\n",
              "          (linear2): Linear(in_features=256, out_features=128, bias=True)\n",
              "          (norm1): LayerNorm((128,), eps=1e-05, elementwise_affine=True)\n",
              "          (norm2): LayerNorm((128,), eps=1e-05, elementwise_affine=True)\n",
              "          (norm3): LayerNorm((128,), eps=1e-05, elementwise_affine=True)\n",
              "          (dropout1): Dropout(p=0, inplace=False)\n",
              "          (dropout2): Dropout(p=0, inplace=False)\n",
              "          (dropout3): Dropout(p=0, inplace=False)\n",
              "        )\n",
              "      )\n",
              "    )\n",
              "    (fc): Linear(in_features=128, out_features=156, bias=True)\n",
              "  )\n",
              "  (loss_fn): CrossEntropyLoss()\n",
              "  (val_cer): CharacterErrorRate()\n",
              "  (test_cer): CharacterErrorRate()\n",
              ")"
            ]
          },
          "metadata": {},
          "execution_count": 57
        }
      ]
    },
    {
      "cell_type": "code",
      "source": [
        "# 1️⃣ Upload Image\n",
        "uploaded = files.upload()  # Upload image\n",
        "image_path = list(uploaded.keys())[0]  # Extract image path\n",
        "\n",
        "# 2️⃣ Image Processing\n",
        "from PIL import Image\n",
        "import torchvision.transforms as TT\n",
        "import torch\n",
        "import matplotlib.pyplot as plt\n",
        "from IPython.display import display, Math\n",
        "\n",
        "image = Image.open(image_path).convert(\"L\")  # Convert to grayscale\n",
        "transform = TT.Compose([\n",
        "    TT.Grayscale(num_output_channels=1),\n",
        "    TT.Resize((256, 512)),  # Resize to 256x512\n",
        "    TT.ToTensor(),\n",
        "    TT.Normalize(mean=[0.5], std=[0.5])  # Normalize the image\n",
        "])\n",
        "img_tensor = transform(image).unsqueeze(0).to(device)  # Add batch dimension and move to device\n",
        "\n",
        "# 3️⃣ Model Prediction\n",
        "with torch.no_grad():  # No gradient computation required\n",
        "    pred = lit_model.model.predict(img_tensor)[0]  # Get the prediction for the image\n",
        "\n",
        "# 4️⃣ Convert Output to LaTeX\n",
        "decoded = []\n",
        "for j in pred.tolist():\n",
        "  if j != 1:  # If it's not the end token\n",
        "    decoded.append(lit_model.tokenizer.id_to_token(j))\n",
        "  else:  # End token\n",
        "    decoded.append(lit_model.tokenizer.id_to_token(j))\n",
        "    break\n",
        "decoded_str = \"\".join(decoded)  # Join the tokens to form LaTeX string\n",
        "\n",
        "# 5️⃣ Display Image and LaTeX Formula\n",
        "plt.imshow(image, cmap=\"gray\")  # Display image in grayscale\n",
        "plt.axis(\"off\")  # Remove axis\n",
        "plt.show()  # Show image\n",
        "\n",
        "print(\"🔹 **Predicted LaTeX Code:**\")\n",
        "print(decoded_str)  # Print predicted LaTeX code\n",
        "\n",
        "print(\"\\n🔹 **Rendered LaTeX Formula:**\")\n",
        "display(Math(decoded_str))  # Render LaTeX formula\n"
      ],
      "metadata": {
        "colab": {
          "base_uri": "https://localhost:8080/",
          "height": 449
        },
        "id": "8BOSjreJ03Td",
        "outputId": "b4f86d3f-7eff-475b-b85a-635554ea42d8"
      },
      "execution_count": null,
      "outputs": [
        {
          "output_type": "display_data",
          "data": {
            "text/plain": [
              "<IPython.core.display.HTML object>"
            ],
            "text/html": [
              "\n",
              "     <input type=\"file\" id=\"files-9736318e-c2e4-49a7-adcd-aa28991106d6\" name=\"files[]\" multiple disabled\n",
              "        style=\"border:none\" />\n",
              "     <output id=\"result-9736318e-c2e4-49a7-adcd-aa28991106d6\">\n",
              "      Upload widget is only available when the cell has been executed in the\n",
              "      current browser session. Please rerun this cell to enable.\n",
              "      </output>\n",
              "      <script>// Copyright 2017 Google LLC\n",
              "//\n",
              "// Licensed under the Apache License, Version 2.0 (the \"License\");\n",
              "// you may not use this file except in compliance with the License.\n",
              "// You may obtain a copy of the License at\n",
              "//\n",
              "//      http://www.apache.org/licenses/LICENSE-2.0\n",
              "//\n",
              "// Unless required by applicable law or agreed to in writing, software\n",
              "// distributed under the License is distributed on an \"AS IS\" BASIS,\n",
              "// WITHOUT WARRANTIES OR CONDITIONS OF ANY KIND, either express or implied.\n",
              "// See the License for the specific language governing permissions and\n",
              "// limitations under the License.\n",
              "\n",
              "/**\n",
              " * @fileoverview Helpers for google.colab Python module.\n",
              " */\n",
              "(function(scope) {\n",
              "function span(text, styleAttributes = {}) {\n",
              "  const element = document.createElement('span');\n",
              "  element.textContent = text;\n",
              "  for (const key of Object.keys(styleAttributes)) {\n",
              "    element.style[key] = styleAttributes[key];\n",
              "  }\n",
              "  return element;\n",
              "}\n",
              "\n",
              "// Max number of bytes which will be uploaded at a time.\n",
              "const MAX_PAYLOAD_SIZE = 100 * 1024;\n",
              "\n",
              "function _uploadFiles(inputId, outputId) {\n",
              "  const steps = uploadFilesStep(inputId, outputId);\n",
              "  const outputElement = document.getElementById(outputId);\n",
              "  // Cache steps on the outputElement to make it available for the next call\n",
              "  // to uploadFilesContinue from Python.\n",
              "  outputElement.steps = steps;\n",
              "\n",
              "  return _uploadFilesContinue(outputId);\n",
              "}\n",
              "\n",
              "// This is roughly an async generator (not supported in the browser yet),\n",
              "// where there are multiple asynchronous steps and the Python side is going\n",
              "// to poll for completion of each step.\n",
              "// This uses a Promise to block the python side on completion of each step,\n",
              "// then passes the result of the previous step as the input to the next step.\n",
              "function _uploadFilesContinue(outputId) {\n",
              "  const outputElement = document.getElementById(outputId);\n",
              "  const steps = outputElement.steps;\n",
              "\n",
              "  const next = steps.next(outputElement.lastPromiseValue);\n",
              "  return Promise.resolve(next.value.promise).then((value) => {\n",
              "    // Cache the last promise value to make it available to the next\n",
              "    // step of the generator.\n",
              "    outputElement.lastPromiseValue = value;\n",
              "    return next.value.response;\n",
              "  });\n",
              "}\n",
              "\n",
              "/**\n",
              " * Generator function which is called between each async step of the upload\n",
              " * process.\n",
              " * @param {string} inputId Element ID of the input file picker element.\n",
              " * @param {string} outputId Element ID of the output display.\n",
              " * @return {!Iterable<!Object>} Iterable of next steps.\n",
              " */\n",
              "function* uploadFilesStep(inputId, outputId) {\n",
              "  const inputElement = document.getElementById(inputId);\n",
              "  inputElement.disabled = false;\n",
              "\n",
              "  const outputElement = document.getElementById(outputId);\n",
              "  outputElement.innerHTML = '';\n",
              "\n",
              "  const pickedPromise = new Promise((resolve) => {\n",
              "    inputElement.addEventListener('change', (e) => {\n",
              "      resolve(e.target.files);\n",
              "    });\n",
              "  });\n",
              "\n",
              "  const cancel = document.createElement('button');\n",
              "  inputElement.parentElement.appendChild(cancel);\n",
              "  cancel.textContent = 'Cancel upload';\n",
              "  const cancelPromise = new Promise((resolve) => {\n",
              "    cancel.onclick = () => {\n",
              "      resolve(null);\n",
              "    };\n",
              "  });\n",
              "\n",
              "  // Wait for the user to pick the files.\n",
              "  const files = yield {\n",
              "    promise: Promise.race([pickedPromise, cancelPromise]),\n",
              "    response: {\n",
              "      action: 'starting',\n",
              "    }\n",
              "  };\n",
              "\n",
              "  cancel.remove();\n",
              "\n",
              "  // Disable the input element since further picks are not allowed.\n",
              "  inputElement.disabled = true;\n",
              "\n",
              "  if (!files) {\n",
              "    return {\n",
              "      response: {\n",
              "        action: 'complete',\n",
              "      }\n",
              "    };\n",
              "  }\n",
              "\n",
              "  for (const file of files) {\n",
              "    const li = document.createElement('li');\n",
              "    li.append(span(file.name, {fontWeight: 'bold'}));\n",
              "    li.append(span(\n",
              "        `(${file.type || 'n/a'}) - ${file.size} bytes, ` +\n",
              "        `last modified: ${\n",
              "            file.lastModifiedDate ? file.lastModifiedDate.toLocaleDateString() :\n",
              "                                    'n/a'} - `));\n",
              "    const percent = span('0% done');\n",
              "    li.appendChild(percent);\n",
              "\n",
              "    outputElement.appendChild(li);\n",
              "\n",
              "    const fileDataPromise = new Promise((resolve) => {\n",
              "      const reader = new FileReader();\n",
              "      reader.onload = (e) => {\n",
              "        resolve(e.target.result);\n",
              "      };\n",
              "      reader.readAsArrayBuffer(file);\n",
              "    });\n",
              "    // Wait for the data to be ready.\n",
              "    let fileData = yield {\n",
              "      promise: fileDataPromise,\n",
              "      response: {\n",
              "        action: 'continue',\n",
              "      }\n",
              "    };\n",
              "\n",
              "    // Use a chunked sending to avoid message size limits. See b/62115660.\n",
              "    let position = 0;\n",
              "    do {\n",
              "      const length = Math.min(fileData.byteLength - position, MAX_PAYLOAD_SIZE);\n",
              "      const chunk = new Uint8Array(fileData, position, length);\n",
              "      position += length;\n",
              "\n",
              "      const base64 = btoa(String.fromCharCode.apply(null, chunk));\n",
              "      yield {\n",
              "        response: {\n",
              "          action: 'append',\n",
              "          file: file.name,\n",
              "          data: base64,\n",
              "        },\n",
              "      };\n",
              "\n",
              "      let percentDone = fileData.byteLength === 0 ?\n",
              "          100 :\n",
              "          Math.round((position / fileData.byteLength) * 100);\n",
              "      percent.textContent = `${percentDone}% done`;\n",
              "\n",
              "    } while (position < fileData.byteLength);\n",
              "  }\n",
              "\n",
              "  // All done.\n",
              "  yield {\n",
              "    response: {\n",
              "      action: 'complete',\n",
              "    }\n",
              "  };\n",
              "}\n",
              "\n",
              "scope.google = scope.google || {};\n",
              "scope.google.colab = scope.google.colab || {};\n",
              "scope.google.colab._files = {\n",
              "  _uploadFiles,\n",
              "  _uploadFilesContinue,\n",
              "};\n",
              "})(self);\n",
              "</script> "
            ]
          },
          "metadata": {}
        },
        {
          "output_type": "stream",
          "name": "stdout",
          "text": [
            "Saving im_ (1701).jpg to im_ (1701).jpg\n"
          ]
        },
        {
          "output_type": "display_data",
          "data": {
            "text/plain": [
              "<Figure size 640x480 with 1 Axes>"
            ],
            "image/png": "[encoded data removed]"
          },
          "metadata": {}
        },
        {
          "output_type": "stream",
          "name": "stdout",
          "text": [
            "🔹 **Predicted LaTeX Code:**\n",
            "<s>\\frac{1}{4}\\frac{u^4}{4}|_1^2</s>\n",
            "\n",
            "🔹 **Rendered LaTeX Formula:**\n"
          ]
        },
        {
          "output_type": "display_data",
          "data": {
            "text/plain": [
              "<IPython.core.display.Math object>"
            ],
            "text/latex": "$\\displaystyle <s>\\frac{1}{4}\\frac{u^4}{4}|_1^2</s>$"
          },
          "metadata": {}
        }
      ]
    },
    {
      "cell_type": "markdown",
      "source": [
        "# **🔴Feature map**"
      ],
      "metadata": {
        "id": "FUrunEOlQi1o"
      }
    },
    {
      "cell_type": "code",
      "source": [
        "test_loader = DataLoader(test_dataset, batch_size=1, shuffle=True, collate_fn=collate_fn)"
      ],
      "metadata": {
        "id": "JwBweQGsW5aM"
      },
      "execution_count": null,
      "outputs": []
    },
    {
      "cell_type": "code",
      "source": [
        "import cv2\n",
        "import numpy as np\n",
        "import matplotlib.pyplot as plt\n",
        "import torch\n",
        "\n",
        "def visualize_single_feature_map(image_tensor, feature_maps):\n",
        "    \"\"\"\n",
        "    Display the input image alongside a single averaged feature map.\n",
        "\n",
        "    :param image_tensor: The input test image from the DataLoader (Tensor of shape 1, C, 256, 512).\n",
        "    :param feature_maps: The feature maps from the intermediate layers of ResNet (Tensor of shape B, 256, H, W).\n",
        "    \"\"\"\n",
        "    # Convert Tensor to NumPy (shape: H, W, C)\n",
        "    img = image_tensor.squeeze(0).permute(1, 2, 0).cpu().numpy()\n",
        "    img = (img - img.min()) / (img.max() - img.min())  # Normalize for visualization\n",
        "    img = np.uint8(img * 255)\n",
        "    img = cv2.cvtColor(img, cv2.COLOR_GRAY2BGR)  # Convert grayscale to BGR for heatmap overlay\n",
        "\n",
        "    # Compute the mean feature map across all channels to generate a single visualization\n",
        "    feature_map = feature_maps[0].mean(dim=0).detach().cpu().numpy()\n",
        "\n",
        "    # Resize the feature map to match the input image size\n",
        "    feature_map = cv2.resize(feature_map, (512, 256))\n",
        "    # feature_map = (feature_map - feature_map.min()) / (feature_map.max() - feature_map.min())  # Normalize\n",
        "\n",
        "    # Generate a heatmap from the feature map\n",
        "    heatmap = cv2.applyColorMap(np.uint8(255 * feature_map), cv2.COLORMAP_VIRIDIS)\n",
        "    overlayed = cv2.addWeighted(img, 0.6, heatmap, 0.4, 0)\n",
        "\n",
        "    # Display the original image and the feature map overlay\n",
        "    plt.figure(figsize=(12, 6))\n",
        "    plt.subplot(1, 2, 1)\n",
        "    plt.imshow(img, cmap='gray')\n",
        "    plt.title(\"Original Image\")\n",
        "\n",
        "    plt.subplot(1, 2, 2)\n",
        "    plt.imshow(overlayed)\n",
        "    plt.title(\"Averaged Feature Map\")\n",
        "    plt.show()\n"
      ],
      "metadata": {
        "id": "yOvVcWs33RuD"
      },
      "execution_count": null,
      "outputs": []
    },
    {
      "cell_type": "code",
      "source": [
        "def process_one_test_image(model, test_dataloader, device=\"cuda\"):\n",
        "    \"\"\"\n",
        "    Run the model on a single test image and visualize a single averaged feature map.\n",
        "\n",
        "    :param model: The ResNetTransformer model.\n",
        "    :param test_dataloader: The DataLoader containing test images.\n",
        "    :param device: Run on 'cuda' or 'cpu'.\n",
        "    \"\"\"\n",
        "    model.eval()\n",
        "    with torch.no_grad():\n",
        "        for batch in test_dataloader:\n",
        "            image, _ = batch  # Fetch a single test image (labels not needed)\n",
        "            image = image.to(device)\n",
        "\n",
        "            # Pass the image through the model and retrieve feature maps\n",
        "            _, feature_maps = model.encode(image)\n",
        "\n",
        "            # Display only one averaged feature map\n",
        "            visualize_single_feature_map(image.cpu(), feature_maps.cpu())\n",
        "            break  # Process only one image"
      ],
      "metadata": {
        "id": "uvFLuuNyRgC8"
      },
      "execution_count": null,
      "outputs": []
    },
    {
      "cell_type": "code",
      "source": [
        "process_one_test_image(lit_model.model, test_loader, device=\"cuda\")"
      ],
      "metadata": {
        "id": "PAeSbX1UUbmN",
        "outputId": "4e484055-8581-4f63-a48e-d7bed27cfb56",
        "colab": {
          "base_uri": "https://localhost:8080/",
          "height": 294
        }
      },
      "execution_count": null,
      "outputs": [
        {
          "output_type": "display_data",
          "data": {
            "text/plain": [
              "<Figure size 1200x600 with 2 Axes>"
            ],
            "image/png": "[encoded data removed]"
          },
          "metadata": {}
        }
      ]
    },
    {
      "cell_type": "code",
      "source": [],
      "metadata": {
        "id": "eG4pXYoYVnKX"
      },
      "execution_count": null,
      "outputs": []
    }
  ],
  "metadata": {
    "colab": {
      "collapsed_sections": [
        "Hi7OmzqQj_Te",
        "OFEbeoVYlLRg",
        "c5bNJaBDlhbl",
        "H_WJRepJQcuB",
        "Tq2Ryx5Dk8km",
        "0Pifowx-rjej",
        "7WDNaXpjnB3c",
        "qQrcAWNgnVt5"
      ],
      "provenance": [],
      "gpuType": "T4"
    },
    "kernelspec": {
      "display_name": "Python 3",
      "name": "python3"
    },
    "language_info": {
      "name": "python"
    },
    "widgets": {
      "application/vnd.jupyter.widget-state+json": {
        "48657354bd814728ae423e1afa4efc94": {
          "model_module": "@jupyter-widgets/controls",
          "model_name": "HBoxModel",
          "model_module_version": "1.5.0",
          "state": {
            "_dom_classes": [],
            "_model_module": "@jupyter-widgets/controls",
            "_model_module_version": "1.5.0",
            "_model_name": "HBoxModel",
            "_view_count": null,
            "_view_module": "@jupyter-widgets/controls",
            "_view_module_version": "1.5.0",
            "_view_name": "HBoxView",
            "box_style": "",
            "children": [
              "IPY_MODEL_9d3f149e9e094ec2b6e1dd6ae1198bc5",
              "IPY_MODEL_d9ee85ec058e4ffaa2d25b80c3bfb6c1",
              "IPY_MODEL_c68bc45bc2264c838e6707906089d393"
            ],
            "layout": "IPY_MODEL_99db236650874d6a8e81d41a51bbe7c6"
          }
        },
        "9d3f149e9e094ec2b6e1dd6ae1198bc5": {
          "model_module": "@jupyter-widgets/controls",
          "model_name": "HTMLModel",
          "model_module_version": "1.5.0",
          "state": {
            "_dom_classes": [],
            "_model_module": "@jupyter-widgets/controls",
            "_model_module_version": "1.5.0",
            "_model_name": "HTMLModel",
            "_view_count": null,
            "_view_module": "@jupyter-widgets/controls",
            "_view_module_version": "1.5.0",
            "_view_name": "HTMLView",
            "description": "",
            "description_tooltip": null,
            "layout": "IPY_MODEL_3cda128b560946cf98aa30f8d6040f18",
            "placeholder": "​",
            "style": "IPY_MODEL_b996528082094a0a89d8130f7d42c85c",
            "value": "Testing DataLoader 0: 100%"
          }
        },
        "d9ee85ec058e4ffaa2d25b80c3bfb6c1": {
          "model_module": "@jupyter-widgets/controls",
          "model_name": "FloatProgressModel",
          "model_module_version": "1.5.0",
          "state": {
            "_dom_classes": [],
            "_model_module": "@jupyter-widgets/controls",
            "_model_module_version": "1.5.0",
            "_model_name": "FloatProgressModel",
            "_view_count": null,
            "_view_module": "@jupyter-widgets/controls",
            "_view_module_version": "1.5.0",
            "_view_name": "ProgressView",
            "bar_style": "success",
            "description": "",
            "description_tooltip": null,
            "layout": "IPY_MODEL_006ce84de2d34ae581ba250781f18322",
            "max": 605,
            "min": 0,
            "orientation": "horizontal",
            "style": "IPY_MODEL_e12e50898a654746843a850fae8350c1",
            "value": 605
          }
        },
        "c68bc45bc2264c838e6707906089d393": {
          "model_module": "@jupyter-widgets/controls",
          "model_name": "HTMLModel",
          "model_module_version": "1.5.0",
          "state": {
            "_dom_classes": [],
            "_model_module": "@jupyter-widgets/controls",
            "_model_module_version": "1.5.0",
            "_model_name": "HTMLModel",
            "_view_count": null,
            "_view_module": "@jupyter-widgets/controls",
            "_view_module_version": "1.5.0",
            "_view_name": "HTMLView",
            "description": "",
            "description_tooltip": null,
            "layout": "IPY_MODEL_a6db5222eb7a45088211b59bd34d7719",
            "placeholder": "​",
            "style": "IPY_MODEL_cb5b0debbfd046b986cd7709f9edc7cd",
            "value": " 605/605 [27:02&lt;00:00,  0.37it/s]"
          }
        },
        "99db236650874d6a8e81d41a51bbe7c6": {
          "model_module": "@jupyter-widgets/base",
          "model_name": "LayoutModel",
          "model_module_version": "1.2.0",
          "state": {
            "_model_module": "@jupyter-widgets/base",
            "_model_module_version": "1.2.0",
            "_model_name": "LayoutModel",
            "_view_count": null,
            "_view_module": "@jupyter-widgets/base",
            "_view_module_version": "1.2.0",
            "_view_name": "LayoutView",
            "align_content": null,
            "align_items": null,
            "align_self": null,
            "border": null,
            "bottom": null,
            "display": "inline-flex",
            "flex": null,
            "flex_flow": "row wrap",
            "grid_area": null,
            "grid_auto_columns": null,
            "grid_auto_flow": null,
            "grid_auto_rows": null,
            "grid_column": null,
            "grid_gap": null,
            "grid_row": null,
            "grid_template_areas": null,
            "grid_template_columns": null,
            "grid_template_rows": null,
            "height": null,
            "justify_content": null,
            "justify_items": null,
            "left": null,
            "margin": null,
            "max_height": null,
            "max_width": null,
            "min_height": null,
            "min_width": null,
            "object_fit": null,
            "object_position": null,
            "order": null,
            "overflow": null,
            "overflow_x": null,
            "overflow_y": null,
            "padding": null,
            "right": null,
            "top": null,
            "visibility": null,
            "width": "100%"
          }
        },
        "3cda128b560946cf98aa30f8d6040f18": {
          "model_module": "@jupyter-widgets/base",
          "model_name": "LayoutModel",
          "model_module_version": "1.2.0",
          "state": {
            "_model_module": "@jupyter-widgets/base",
            "_model_module_version": "1.2.0",
            "_model_name": "LayoutModel",
            "_view_count": null,
            "_view_module": "@jupyter-widgets/base",
            "_view_module_version": "1.2.0",
            "_view_name": "LayoutView",
            "align_content": null,
            "align_items": null,
            "align_self": null,
            "border": null,
            "bottom": null,
            "display": null,
            "flex": null,
            "flex_flow": null,
            "grid_area": null,
            "grid_auto_columns": null,
            "grid_auto_flow": null,
            "grid_auto_rows": null,
            "grid_column": null,
            "grid_gap": null,
            "grid_row": null,
            "grid_template_areas": null,
            "grid_template_columns": null,
            "grid_template_rows": null,
            "height": null,
            "justify_content": null,
            "justify_items": null,
            "left": null,
            "margin": null,
            "max_height": null,
            "max_width": null,
            "min_height": null,
            "min_width": null,
            "object_fit": null,
            "object_position": null,
            "order": null,
            "overflow": null,
            "overflow_x": null,
            "overflow_y": null,
            "padding": null,
            "right": null,
            "top": null,
            "visibility": null,
            "width": null
          }
        },
        "b996528082094a0a89d8130f7d42c85c": {
          "model_module": "@jupyter-widgets/controls",
          "model_name": "DescriptionStyleModel",
          "model_module_version": "1.5.0",
          "state": {
            "_model_module": "@jupyter-widgets/controls",
            "_model_module_version": "1.5.0",
            "_model_name": "DescriptionStyleModel",
            "_view_count": null,
            "_view_module": "@jupyter-widgets/base",
            "_view_module_version": "1.2.0",
            "_view_name": "StyleView",
            "description_width": ""
          }
        },
        "006ce84de2d34ae581ba250781f18322": {
          "model_module": "@jupyter-widgets/base",
          "model_name": "LayoutModel",
          "model_module_version": "1.2.0",
          "state": {
            "_model_module": "@jupyter-widgets/base",
            "_model_module_version": "1.2.0",
            "_model_name": "LayoutModel",
            "_view_count": null,
            "_view_module": "@jupyter-widgets/base",
            "_view_module_version": "1.2.0",
            "_view_name": "LayoutView",
            "align_content": null,
            "align_items": null,
            "align_self": null,
            "border": null,
            "bottom": null,
            "display": null,
            "flex": "2",
            "flex_flow": null,
            "grid_area": null,
            "grid_auto_columns": null,
            "grid_auto_flow": null,
            "grid_auto_rows": null,
            "grid_column": null,
            "grid_gap": null,
            "grid_row": null,
            "grid_template_areas": null,
            "grid_template_columns": null,
            "grid_template_rows": null,
            "height": null,
            "justify_content": null,
            "justify_items": null,
            "left": null,
            "margin": null,
            "max_height": null,
            "max_width": null,
            "min_height": null,
            "min_width": null,
            "object_fit": null,
            "object_position": null,
            "order": null,
            "overflow": null,
            "overflow_x": null,
            "overflow_y": null,
            "padding": null,
            "right": null,
            "top": null,
            "visibility": null,
            "width": null
          }
        },
        "e12e50898a654746843a850fae8350c1": {
          "model_module": "@jupyter-widgets/controls",
          "model_name": "ProgressStyleModel",
          "model_module_version": "1.5.0",
          "state": {
            "_model_module": "@jupyter-widgets/controls",
            "_model_module_version": "1.5.0",
            "_model_name": "ProgressStyleModel",
            "_view_count": null,
            "_view_module": "@jupyter-widgets/base",
            "_view_module_version": "1.2.0",
            "_view_name": "StyleView",
            "bar_color": null,
            "description_width": ""
          }
        },
        "a6db5222eb7a45088211b59bd34d7719": {
          "model_module": "@jupyter-widgets/base",
          "model_name": "LayoutModel",
          "model_module_version": "1.2.0",
          "state": {
            "_model_module": "@jupyter-widgets/base",
            "_model_module_version": "1.2.0",
            "_model_name": "LayoutModel",
            "_view_count": null,
            "_view_module": "@jupyter-widgets/base",
            "_view_module_version": "1.2.0",
            "_view_name": "LayoutView",
            "align_content": null,
            "align_items": null,
            "align_self": null,
            "border": null,
            "bottom": null,
            "display": null,
            "flex": null,
            "flex_flow": null,
            "grid_area": null,
            "grid_auto_columns": null,
            "grid_auto_flow": null,
            "grid_auto_rows": null,
            "grid_column": null,
            "grid_gap": null,
            "grid_row": null,
            "grid_template_areas": null,
            "grid_template_columns": null,
            "grid_template_rows": null,
            "height": null,
            "justify_content": null,
            "justify_items": null,
            "left": null,
            "margin": null,
            "max_height": null,
            "max_width": null,
            "min_height": null,
            "min_width": null,
            "object_fit": null,
            "object_position": null,
            "order": null,
            "overflow": null,
            "overflow_x": null,
            "overflow_y": null,
            "padding": null,
            "right": null,
            "top": null,
            "visibility": null,
            "width": null
          }
        },
        "cb5b0debbfd046b986cd7709f9edc7cd": {
          "model_module": "@jupyter-widgets/controls",
          "model_name": "DescriptionStyleModel",
          "model_module_version": "1.5.0",
          "state": {
            "_model_module": "@jupyter-widgets/controls",
            "_model_module_version": "1.5.0",
            "_model_name": "DescriptionStyleModel",
            "_view_count": null,
            "_view_module": "@jupyter-widgets/base",
            "_view_module_version": "1.2.0",
            "_view_name": "StyleView",
            "description_width": ""
          }
        },
        "ced6f41363e0419f83d4c4d894c61293": {
          "model_module": "@jupyter-widgets/controls",
          "model_name": "HBoxModel",
          "model_module_version": "1.5.0",
          "state": {
            "_dom_classes": [],
            "_model_module": "@jupyter-widgets/controls",
            "_model_module_version": "1.5.0",
            "_model_name": "HBoxModel",
            "_view_count": null,
            "_view_module": "@jupyter-widgets/controls",
            "_view_module_version": "1.5.0",
            "_view_name": "HBoxView",
            "box_style": "",
            "children": [
              "IPY_MODEL_cb595cf806b44e57b8126aa3a10ed5df",
              "IPY_MODEL_a9c08a55bab847f7ab33d467004af7a2",
              "IPY_MODEL_04cf9334f7624adcb01534060fc22d09"
            ],
            "layout": "IPY_MODEL_ae8c5ebbae8d46658efd1baf8cda9d28"
          }
        },
        "cb595cf806b44e57b8126aa3a10ed5df": {
          "model_module": "@jupyter-widgets/controls",
          "model_name": "HTMLModel",
          "model_module_version": "1.5.0",
          "state": {
            "_dom_classes": [],
            "_model_module": "@jupyter-widgets/controls",
            "_model_module_version": "1.5.0",
            "_model_name": "HTMLModel",
            "_view_count": null,
            "_view_module": "@jupyter-widgets/controls",
            "_view_module_version": "1.5.0",
            "_view_name": "HTMLView",
            "description": "",
            "description_tooltip": null,
            "layout": "IPY_MODEL_a2070aa686f647aba5fc3279a252862e",
            "placeholder": "​",
            "style": "IPY_MODEL_aa88e5f2f84b4cf7be891965378f0dc2",
            "value": "Testing DataLoader 0: 100%"
          }
        },
        "a9c08a55bab847f7ab33d467004af7a2": {
          "model_module": "@jupyter-widgets/controls",
          "model_name": "FloatProgressModel",
          "model_module_version": "1.5.0",
          "state": {
            "_dom_classes": [],
            "_model_module": "@jupyter-widgets/controls",
            "_model_module_version": "1.5.0",
            "_model_name": "FloatProgressModel",
            "_view_count": null,
            "_view_module": "@jupyter-widgets/controls",
            "_view_module_version": "1.5.0",
            "_view_name": "ProgressView",
            "bar_style": "success",
            "description": "",
            "description_tooltip": null,
            "layout": "IPY_MODEL_0d0a6beaeb154a4eac04f0c588494528",
            "max": 46,
            "min": 0,
            "orientation": "horizontal",
            "style": "IPY_MODEL_6ce831476778431d91b7e8297ba5709a",
            "value": 46
          }
        },
        "04cf9334f7624adcb01534060fc22d09": {
          "model_module": "@jupyter-widgets/controls",
          "model_name": "HTMLModel",
          "model_module_version": "1.5.0",
          "state": {
            "_dom_classes": [],
            "_model_module": "@jupyter-widgets/controls",
            "_model_module_version": "1.5.0",
            "_model_name": "HTMLModel",
            "_view_count": null,
            "_view_module": "@jupyter-widgets/controls",
            "_view_module_version": "1.5.0",
            "_view_name": "HTMLView",
            "description": "",
            "description_tooltip": null,
            "layout": "IPY_MODEL_55bb87ea6434464db4a8e98f202d48de",
            "placeholder": "​",
            "style": "IPY_MODEL_f122d5e0ad8b42f7b4eb781adce4b675",
            "value": " 46/46 [02:16&lt;00:00,  0.34it/s]"
          }
        },
        "ae8c5ebbae8d46658efd1baf8cda9d28": {
          "model_module": "@jupyter-widgets/base",
          "model_name": "LayoutModel",
          "model_module_version": "1.2.0",
          "state": {
            "_model_module": "@jupyter-widgets/base",
            "_model_module_version": "1.2.0",
            "_model_name": "LayoutModel",
            "_view_count": null,
            "_view_module": "@jupyter-widgets/base",
            "_view_module_version": "1.2.0",
            "_view_name": "LayoutView",
            "align_content": null,
            "align_items": null,
            "align_self": null,
            "border": null,
            "bottom": null,
            "display": "inline-flex",
            "flex": null,
            "flex_flow": "row wrap",
            "grid_area": null,
            "grid_auto_columns": null,
            "grid_auto_flow": null,
            "grid_auto_rows": null,
            "grid_column": null,
            "grid_gap": null,
            "grid_row": null,
            "grid_template_areas": null,
            "grid_template_columns": null,
            "grid_template_rows": null,
            "height": null,
            "justify_content": null,
            "justify_items": null,
            "left": null,
            "margin": null,
            "max_height": null,
            "max_width": null,
            "min_height": null,
            "min_width": null,
            "object_fit": null,
            "object_position": null,
            "order": null,
            "overflow": null,
            "overflow_x": null,
            "overflow_y": null,
            "padding": null,
            "right": null,
            "top": null,
            "visibility": null,
            "width": "100%"
          }
        },
        "a2070aa686f647aba5fc3279a252862e": {
          "model_module": "@jupyter-widgets/base",
          "model_name": "LayoutModel",
          "model_module_version": "1.2.0",
          "state": {
            "_model_module": "@jupyter-widgets/base",
            "_model_module_version": "1.2.0",
            "_model_name": "LayoutModel",
            "_view_count": null,
            "_view_module": "@jupyter-widgets/base",
            "_view_module_version": "1.2.0",
            "_view_name": "LayoutView",
            "align_content": null,
            "align_items": null,
            "align_self": null,
            "border": null,
            "bottom": null,
            "display": null,
            "flex": null,
            "flex_flow": null,
            "grid_area": null,
            "grid_auto_columns": null,
            "grid_auto_flow": null,
            "grid_auto_rows": null,
            "grid_column": null,
            "grid_gap": null,
            "grid_row": null,
            "grid_template_areas": null,
            "grid_template_columns": null,
            "grid_template_rows": null,
            "height": null,
            "justify_content": null,
            "justify_items": null,
            "left": null,
            "margin": null,
            "max_height": null,
            "max_width": null,
            "min_height": null,
            "min_width": null,
            "object_fit": null,
            "object_position": null,
            "order": null,
            "overflow": null,
            "overflow_x": null,
            "overflow_y": null,
            "padding": null,
            "right": null,
            "top": null,
            "visibility": null,
            "width": null
          }
        },
        "aa88e5f2f84b4cf7be891965378f0dc2": {
          "model_module": "@jupyter-widgets/controls",
          "model_name": "DescriptionStyleModel",
          "model_module_version": "1.5.0",
          "state": {
            "_model_module": "@jupyter-widgets/controls",
            "_model_module_version": "1.5.0",
            "_model_name": "DescriptionStyleModel",
            "_view_count": null,
            "_view_module": "@jupyter-widgets/base",
            "_view_module_version": "1.2.0",
            "_view_name": "StyleView",
            "description_width": ""
          }
        },
        "0d0a6beaeb154a4eac04f0c588494528": {
          "model_module": "@jupyter-widgets/base",
          "model_name": "LayoutModel",
          "model_module_version": "1.2.0",
          "state": {
            "_model_module": "@jupyter-widgets/base",
            "_model_module_version": "1.2.0",
            "_model_name": "LayoutModel",
            "_view_count": null,
            "_view_module": "@jupyter-widgets/base",
            "_view_module_version": "1.2.0",
            "_view_name": "LayoutView",
            "align_content": null,
            "align_items": null,
            "align_self": null,
            "border": null,
            "bottom": null,
            "display": null,
            "flex": "2",
            "flex_flow": null,
            "grid_area": null,
            "grid_auto_columns": null,
            "grid_auto_flow": null,
            "grid_auto_rows": null,
            "grid_column": null,
            "grid_gap": null,
            "grid_row": null,
            "grid_template_areas": null,
            "grid_template_columns": null,
            "grid_template_rows": null,
            "height": null,
            "justify_content": null,
            "justify_items": null,
            "left": null,
            "margin": null,
            "max_height": null,
            "max_width": null,
            "min_height": null,
            "min_width": null,
            "object_fit": null,
            "object_position": null,
            "order": null,
            "overflow": null,
            "overflow_x": null,
            "overflow_y": null,
            "padding": null,
            "right": null,
            "top": null,
            "visibility": null,
            "width": null
          }
        },
        "6ce831476778431d91b7e8297ba5709a": {
          "model_module": "@jupyter-widgets/controls",
          "model_name": "ProgressStyleModel",
          "model_module_version": "1.5.0",
          "state": {
            "_model_module": "@jupyter-widgets/controls",
            "_model_module_version": "1.5.0",
            "_model_name": "ProgressStyleModel",
            "_view_count": null,
            "_view_module": "@jupyter-widgets/base",
            "_view_module_version": "1.2.0",
            "_view_name": "StyleView",
            "bar_color": null,
            "description_width": ""
          }
        },
        "55bb87ea6434464db4a8e98f202d48de": {
          "model_module": "@jupyter-widgets/base",
          "model_name": "LayoutModel",
          "model_module_version": "1.2.0",
          "state": {
            "_model_module": "@jupyter-widgets/base",
            "_model_module_version": "1.2.0",
            "_model_name": "LayoutModel",
            "_view_count": null,
            "_view_module": "@jupyter-widgets/base",
            "_view_module_version": "1.2.0",
            "_view_name": "LayoutView",
            "align_content": null,
            "align_items": null,
            "align_self": null,
            "border": null,
            "bottom": null,
            "display": null,
            "flex": null,
            "flex_flow": null,
            "grid_area": null,
            "grid_auto_columns": null,
            "grid_auto_flow": null,
            "grid_auto_rows": null,
            "grid_column": null,
            "grid_gap": null,
            "grid_row": null,
            "grid_template_areas": null,
            "grid_template_columns": null,
            "grid_template_rows": null,
            "height": null,
            "justify_content": null,
            "justify_items": null,
            "left": null,
            "margin": null,
            "max_height": null,
            "max_width": null,
            "min_height": null,
            "min_width": null,
            "object_fit": null,
            "object_position": null,
            "order": null,
            "overflow": null,
            "overflow_x": null,
            "overflow_y": null,
            "padding": null,
            "right": null,
            "top": null,
            "visibility": null,
            "width": null
          }
        },
        "f122d5e0ad8b42f7b4eb781adce4b675": {
          "model_module": "@jupyter-widgets/controls",
          "model_name": "DescriptionStyleModel",
          "model_module_version": "1.5.0",
          "state": {
            "_model_module": "@jupyter-widgets/controls",
            "_model_module_version": "1.5.0",
            "_model_name": "DescriptionStyleModel",
            "_view_count": null,
            "_view_module": "@jupyter-widgets/base",
            "_view_module_version": "1.2.0",
            "_view_name": "StyleView",
            "description_width": ""
          }
        }
      }
    },
    "accelerator": "GPU"
  },
  "nbformat": 4,
  "nbformat_minor": 0
}