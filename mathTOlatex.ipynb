{
  "cells": [
    {
      "cell_type": "markdown",
      "metadata": {
        "id": "view-in-github",
        "colab_type": "text"
      },
      "source": [
        "<a href=\"https://colab.research.google.com/github/shgyg99/handwrittenmathsolutions/blob/main/mathTOlatex.ipynb\" target=\"_parent\"><img src=\"https://colab.research.google.com/assets/colab-badge.svg\" alt=\"Open In Colab\"/></a>"
      ]
    },
    {
      "cell_type": "markdown",
      "metadata": {
        "id": "Hi7OmzqQj_Te"
      },
      "source": [
        "# **🔴ENVIRONMENT SETUP**"
      ]
    },
    {
      "cell_type": "code",
      "execution_count": 1,
      "metadata": {
        "colab": {
          "base_uri": "https://localhost:8080/"
        },
        "id": "G2TVFhIEk7ib",
        "outputId": "e9c63da7-e7c6-48ec-b26d-1448352e1d4d"
      },
      "outputs": [
        {
          "output_type": "stream",
          "name": "stdout",
          "text": [
            "\u001b[2K   \u001b[90m━━━━━━━━━━━━━━━━━━━━━━━━━━━━━━━━━━━━━━━━\u001b[0m \u001b[32m927.3/927.3 kB\u001b[0m \u001b[31m15.0 MB/s\u001b[0m eta \u001b[36m0:00:00\u001b[0m\n",
            "\u001b[2K   \u001b[90m━━━━━━━━━━━━━━━━━━━━━━━━━━━━━━━━━━━━━━━━\u001b[0m \u001b[32m363.4/363.4 MB\u001b[0m \u001b[31m3.5 MB/s\u001b[0m eta \u001b[36m0:00:00\u001b[0m\n",
            "\u001b[2K   \u001b[90m━━━━━━━━━━━━━━━━━━━━━━━━━━━━━━━━━━━━━━━━\u001b[0m \u001b[32m13.8/13.8 MB\u001b[0m \u001b[31m27.2 MB/s\u001b[0m eta \u001b[36m0:00:00\u001b[0m\n",
            "\u001b[2K   \u001b[90m━━━━━━━━━━━━━━━━━━━━━━━━━━━━━━━━━━━━━━━━\u001b[0m \u001b[32m24.6/24.6 MB\u001b[0m \u001b[31m19.9 MB/s\u001b[0m eta \u001b[36m0:00:00\u001b[0m\n",
            "\u001b[2K   \u001b[90m━━━━━━━━━━━━━━━━━━━━━━━━━━━━━━━━━━━━━━━━\u001b[0m \u001b[32m883.7/883.7 kB\u001b[0m \u001b[31m31.5 MB/s\u001b[0m eta \u001b[36m0:00:00\u001b[0m\n",
            "\u001b[2K   \u001b[90m━━━━━━━━━━━━━━━━━━━━━━━━━━━━━━━━━━━━━━━━\u001b[0m \u001b[32m664.8/664.8 MB\u001b[0m \u001b[31m805.3 kB/s\u001b[0m eta \u001b[36m0:00:00\u001b[0m\n",
            "\u001b[2K   \u001b[90m━━━━━━━━━━━━━━━━━━━━━━━━━━━━━━━━━━━━━━━━\u001b[0m \u001b[32m211.5/211.5 MB\u001b[0m \u001b[31m4.6 MB/s\u001b[0m eta \u001b[36m0:00:00\u001b[0m\n",
            "\u001b[2K   \u001b[90m━━━━━━━━━━━━━━━━━━━━━━━━━━━━━━━━━━━━━━━━\u001b[0m \u001b[32m56.3/56.3 MB\u001b[0m \u001b[31m9.4 MB/s\u001b[0m eta \u001b[36m0:00:00\u001b[0m\n",
            "\u001b[2K   \u001b[90m━━━━━━━━━━━━━━━━━━━━━━━━━━━━━━━━━━━━━━━━\u001b[0m \u001b[32m127.9/127.9 MB\u001b[0m \u001b[31m7.5 MB/s\u001b[0m eta \u001b[36m0:00:00\u001b[0m\n",
            "\u001b[2K   \u001b[90m━━━━━━━━━━━━━━━━━━━━━━━━━━━━━━━━━━━━━━━━\u001b[0m \u001b[32m207.5/207.5 MB\u001b[0m \u001b[31m6.2 MB/s\u001b[0m eta \u001b[36m0:00:00\u001b[0m\n",
            "\u001b[2K   \u001b[90m━━━━━━━━━━━━━━━━━━━━━━━━━━━━━━━━━━━━━━━━\u001b[0m \u001b[32m21.1/21.1 MB\u001b[0m \u001b[31m63.0 MB/s\u001b[0m eta \u001b[36m0:00:00\u001b[0m\n",
            "\u001b[?25h"
          ]
        }
      ],
      "source": [
        "!pip install -q torchmetrics\n",
        "!pip install -q wandb\n",
        "!pip install -q fastai"
      ]
    },
    {
      "cell_type": "code",
      "execution_count": 3,
      "metadata": {
        "id": "A2MLu6bOFY6y",
        "colab": {
          "base_uri": "https://localhost:8080/"
        },
        "outputId": "77256752-ea99-4392-b6f9-a32059436ed5"
      },
      "outputs": [
        {
          "output_type": "stream",
          "name": "stdout",
          "text": [
            "\u001b[33mWARNING: Skipping torchvision as it is not installed.\u001b[0m\u001b[33m\n",
            "\u001b[0mFound existing installation: torch 2.5.1+cu124\n",
            "Uninstalling torch-2.5.1+cu124:\n",
            "  Successfully uninstalled torch-2.5.1+cu124\n",
            "\u001b[2K   \u001b[90m━━━━━━━━━━━━━━━━━━━━━━━━━━━━━━━━━━━━━━━━\u001b[0m \u001b[32m906.5/906.5 MB\u001b[0m \u001b[31m691.3 kB/s\u001b[0m eta \u001b[36m0:00:00\u001b[0m\n",
            "\u001b[2K   \u001b[90m━━━━━━━━━━━━━━━━━━━━━━━━━━━━━━━━━━━━━━━━\u001b[0m \u001b[32m7.2/7.2 MB\u001b[0m \u001b[31m29.3 MB/s\u001b[0m eta \u001b[36m0:00:00\u001b[0m\n",
            "\u001b[?25h\u001b[31mERROR: pip's dependency resolver does not currently take into account all the packages that are installed. This behaviour is the source of the following dependency conflicts.\n",
            "torchaudio 2.5.1+cu124 requires torch==2.5.1, but you have torch 2.5.0 which is incompatible.\u001b[0m\u001b[31m\n",
            "\u001b[0m"
          ]
        }
      ],
      "source": [
        "!pip uninstall torchvision torch -y\n",
        "!pip install -q torch==2.5 torchvision==0.20"
      ]
    },
    {
      "cell_type": "markdown",
      "metadata": {
        "id": "OFEbeoVYlLRg"
      },
      "source": [
        "# **🔴IMPORT LIBS**"
      ]
    },
    {
      "cell_type": "code",
      "execution_count": 17,
      "metadata": {
        "id": "LWODQ4BLjblB"
      },
      "outputs": [],
      "source": [
        "import warnings\n",
        "warnings.filterwarnings('ignore')\n",
        "\n",
        "import os\n",
        "from torch.nn.utils.rnn import pad_sequence\n",
        "import numpy as np\n",
        "import pandas as pd\n",
        "import matplotlib.pyplot as plt\n",
        "\n",
        "import torchvision\n",
        "from torchvision import transforms as TT\n",
        "from torchvision.models import resnet50, ResNet50_Weights\n",
        "from torchvision.utils import make_grid\n",
        "\n",
        "import torch\n",
        "from torch import nn\n",
        "from torch.utils.data import DataLoader, Dataset, random_split\n",
        "from torch import optim\n",
        "from torch.nn import functional as F\n",
        "\n",
        "from tokenizers import Tokenizer, models, trainers, pre_tokenizers\n",
        "import wandb\n",
        "import tqdm\n",
        "import torchmetrics as tm\n",
        "from PIL import Image"
      ]
    },
    {
      "cell_type": "markdown",
      "metadata": {
        "id": "c5bNJaBDlhbl"
      },
      "source": [
        "# **🔴UTILS**"
      ]
    },
    {
      "cell_type": "code",
      "execution_count": 5,
      "metadata": {
        "id": "HeLrwBOvlg5j"
      },
      "outputs": [],
      "source": [
        "\n",
        "class AverageMeter(object):\n",
        "    \"\"\"Computes and stores the average and current value\"\"\"\n",
        "    def __init__(self):\n",
        "        self.reset()\n",
        "\n",
        "    def reset(self):\n",
        "        self.val = 0\n",
        "        self.avg = 0\n",
        "        self.sum = 0\n",
        "        self.count = 0\n",
        "\n",
        "    def update(self, val, n=1):\n",
        "        self.val = val\n",
        "        self.sum += val * n\n",
        "        self.count += n\n",
        "        self.avg = self.sum / self.count"
      ]
    },
    {
      "cell_type": "code",
      "execution_count": 6,
      "metadata": {
        "id": "mj2ouMgDlmnr"
      },
      "outputs": [],
      "source": [
        "def num_trainable_params(model):\n",
        "  nums = sum(p.numel() for p in model.parameters() if p.requires_grad)/1e6\n",
        "  return nums"
      ]
    },
    {
      "cell_type": "code",
      "execution_count": 7,
      "metadata": {
        "id": "nQZtnlwflobp"
      },
      "outputs": [],
      "source": [
        "def set_seed(seed):\n",
        "  np.random.seed(seed)\n",
        "  torch.manual_seed(seed)\n",
        "  if torch.cuda.is_available():\n",
        "      torch.cuda.manual_seed(seed)"
      ]
    },
    {
      "cell_type": "markdown",
      "metadata": {
        "id": "ZZJ2on11ltK-"
      },
      "source": [
        "# **🔴ARGUMENTS**"
      ]
    },
    {
      "cell_type": "code",
      "execution_count": 8,
      "metadata": {
        "id": "VqCs08IPlqLg"
      },
      "outputs": [],
      "source": [
        "seed = 8\n",
        "path = '/content/drive/MyDrive/papersFolder'\n",
        "embed_size=256\n",
        "hidden_size=512\n",
        "num_layers = 2\n",
        "dropout_embd = 0.5\n",
        "dropout_rnn = 0.5\n",
        "batch_size=32\n",
        "lr = 1e-2\n",
        "momentum=0.9\n",
        "num_epoch = 10\n",
        "wandb_enable = False\n",
        "seq_len = 20"
      ]
    },
    {
      "cell_type": "code",
      "execution_count": 9,
      "metadata": {
        "id": "HJdgt0Cvl3SC"
      },
      "outputs": [],
      "source": [
        "if wandb_enable:\n",
        "  wandb_arg_name = input('Please input the WandB argument (run) name:')\n",
        "  print(wandb_arg_name)"
      ]
    },
    {
      "cell_type": "markdown",
      "metadata": {
        "id": "H_WJRepJQcuB"
      },
      "source": [
        "# **🔴CUSTOM DATASET**"
      ]
    },
    {
      "cell_type": "code",
      "source": [
        "# tokens = [\n",
        "#     '\\\\', '{', '}', '^', '+', '-', \"'\", '_', '!', '.', '/', '&', '%', '*',\n",
        "#     '\\\\frac', '\\\\times', '\\\\lim', '\\\\sin', '\\\\cos', '\\\\tan', '\\\\cot', '\\\\csc', '\\\\sec',\n",
        "#     '\\\\sqrt', '\\\\sum', '\\\\rightarrow', '\\\\Rightarrow', '\\\\leftarrow', '\\\\Leftarrow',\n",
        "#     '\\\\right', '\\\\left', '\\\\alpha', '\\\\beta', '|', '\\\\Delta', '\\\\delta', '\\\\gamma', '\\\\lambda',\n",
        "#     '\\\\min', '\\\\max', '(', ')', '<', '>', '=', '\\\\pm', '\\\\mp', '\\\\neq', '\\\\infty', '\\\\matrix',\n",
        "#     '[', ']', '\\\\in', '\\\\notin', '\\\\cap', '\\\\cup', '\\\\begin', '\\\\end', '\\\\dots', '\\\\int', ':',\n",
        "#     '\\\\ln', '\\\\pi', '\\\\theta', '\\\\to', '\\\\arctan', '\\\\arccot', '\\\\arcsin', '\\\\arccos',\n",
        "#     '\\\\log', '\\\\sinh', '\\\\cosh', '\\\\coth', '\\\\tanh', '\\\\degree', '\\\\dev', '\\\\sim',\n",
        "#     '\\\\forall', '\\\\emptyset', '\\\\buildrelF', '\\\\bar', '\\\\exists', '\\\\varepsilon', '\\\\partial',\n",
        "#     '\\\\hat', '\\\\triangle', '\\\\mathbb', '\\\\simeq',\n",
        "#     'a', 'b', 'c', 'd', 'e', 'f', 'g', 'h', 'i', 'j', 'k', 'l', 'm', 'n', 'o', 'p', 'q', 'r', 's', 't', 'u', 'v', 'w', 'x', 'y', 'z',\n",
        "#     'A', 'B', 'C', 'D', 'E', 'F', 'G', 'H', 'I', 'J', 'K', 'L', 'M', 'N', 'O', 'P', 'Q', 'R', 'S', 'T', 'U', 'V', 'W', 'X', 'Y', 'Z',\n",
        "#     '0', '1', '2', '3', '4', '5', '6', '7', '8', '9'\n",
        "# ]\n",
        "\n",
        "# tokenizer = Tokenizer(models.BPE())\n",
        "\n",
        "# special_tokens = [\"<s>\", \"</s>\", \"<unk>\", \"<pad>\"] + tokens\n",
        "# trainer = trainers.BpeTrainer(vocab_size=len(special_tokens), special_tokens=special_tokens)\n",
        "\n",
        "# tokenizer.pre_tokenizer = pre_tokenizers.Whitespace()\n",
        "\n",
        "# files = [\"/content/drive/MyDrive/papersFolder/latex_formulas.txt\"]\n",
        "# tokenizer.train(files, trainer)\n",
        "\n",
        "# # ذخیره مدل\n",
        "# tokenizer.save(\"/content/drive/MyDrive/papersFolder/latex_tokenizer.json\")\n",
        "\n",
        "# print(\"✅Done\")"
      ],
      "metadata": {
        "colab": {
          "base_uri": "https://localhost:8080/"
        },
        "id": "JUjWVndOluvJ",
        "outputId": "626fb68d-c1d1-4acb-a4cc-edd40b26b8cb"
      },
      "execution_count": 52,
      "outputs": [
        {
          "output_type": "stream",
          "name": "stdout",
          "text": [
            "✅Done\n"
          ]
        }
      ]
    },
    {
      "cell_type": "code",
      "source": [
        "def target_transform(label):\n",
        "  tokenizer = Tokenizer.from_file(f\"{path}/latex_tokenizer.json\")\n",
        "  encoded_label = tokenizer.encode(f'<s>{label}</s>')\n",
        "  return torch.LongTensor(encoded_label.ids)"
      ],
      "metadata": {
        "id": "zvHArRPuhwts"
      },
      "execution_count": 53,
      "outputs": []
    },
    {
      "cell_type": "code",
      "source": [
        "image_transform = TT.Compose([\n",
        "    TT.Grayscale(num_output_channels=1),\n",
        "    TT.Resize((256, 512)),\n",
        "    TT.ToTensor(),\n",
        "    TT.Normalize(mean=[0.5], std=[0.5])\n",
        "])"
      ],
      "metadata": {
        "id": "AxHJ3t4kiyCG"
      },
      "execution_count": 54,
      "outputs": []
    },
    {
      "cell_type": "code",
      "execution_count": 55,
      "metadata": {
        "id": "bi1fMdFOQE-6"
      },
      "outputs": [],
      "source": [
        "class LatexImages(Dataset):\n",
        "  def __init__(self, path, image_transform=None, target_transform=None):\n",
        "    self.path = path\n",
        "    self.image_transform = image_transform\n",
        "    self.target_transform = target_transform\n",
        "\n",
        "    csv = pd.read_csv(os.path.join(self.path, 'merged_sorted.csv'))\n",
        "\n",
        "    self.image_paths = []\n",
        "    self.labels = []\n",
        "    for i in os.listdir(os.path.join(self.path, 'cropped')):\n",
        "        image_path = fr'.\\cropped\\{i}'\n",
        "        try:\n",
        "          label = csv[csv['Image Path'] == image_path]['LaTeX Label'].values[0]\n",
        "          self.image_paths.append(os.path.join(self.path, 'cropped', i))\n",
        "          self.labels.append(label)\n",
        "        except:\n",
        "          pass\n",
        "\n",
        "\n",
        "  def __getitem__(self, index):\n",
        "    image_path = self.image_paths[index]\n",
        "\n",
        "    if self.target_transform:\n",
        "      label = self.target_transform(self.labels[index])\n",
        "    else:\n",
        "      label = self.labels[index]\n",
        "\n",
        "    if self.image_transform:\n",
        "      image = self.image_transform(Image.open(image_path))\n",
        "    else:\n",
        "      image = Image.open(image_path)\n",
        "\n",
        "    return image, label\n",
        "\n",
        "  def __len__(self):\n",
        "    return len(self.image_paths)"
      ]
    },
    {
      "cell_type": "code",
      "execution_count": 56,
      "metadata": {
        "id": "AHi-cTp4UIgd"
      },
      "outputs": [],
      "source": [
        "dataset = LatexImages(path=path, image_transform=image_transform, target_transform=target_transform)"
      ]
    },
    {
      "cell_type": "code",
      "execution_count": 57,
      "metadata": {
        "colab": {
          "base_uri": "https://localhost:8080/",
          "height": 330
        },
        "id": "FsZ45t_EbGLe",
        "outputId": "9aa506cd-b1d7-43bc-c51c-9574446af350"
      },
      "outputs": [
        {
          "output_type": "stream",
          "name": "stdout",
          "text": [
            "torch.Size([1, 256, 512]) torch.Size([23])\n"
          ]
        },
        {
          "output_type": "display_data",
          "data": {
            "text/plain": [
              "<Figure size 640x480 with 1 Axes>"
            ],
            "image/png": "[encoded data removed]"
          },
          "metadata": {}
        }
      ],
      "source": [
        "im, la = dataset.__getitem__(np.random.randint(0, dataset.__len__()))\n",
        "\n",
        "plt.imshow(TT.ToPILImage()(im))\n",
        "print(im.shape, la.shape)"
      ]
    },
    {
      "cell_type": "markdown",
      "source": [
        "# **🔴Data Loader**"
      ],
      "metadata": {
        "id": "Tq2Ryx5Dk8km"
      }
    },
    {
      "cell_type": "code",
      "source": [
        "train_set, test_set = random_split(dataset, [int(len(dataset)*0.9), len(dataset)-int(len(dataset)*0.9)])"
      ],
      "metadata": {
        "id": "1svWDEsXmkse"
      },
      "execution_count": 64,
      "outputs": []
    },
    {
      "cell_type": "code",
      "source": [
        "def collate_fn(data):\n",
        "  tokenizer = Tokenizer.from_file(f\"{path}/latex_tokenizer.json\")\n",
        "  tensors, targets = zip(*data)\n",
        "  features = pad_sequence(targets, padding_value=tokenizer.get_vocab()['<pad>'], batch_first=True)\n",
        "  tensors = torch.stack(tensors)\n",
        "  return tensors, features"
      ],
      "metadata": {
        "id": "QALwTzOJgyE4"
      },
      "execution_count": 63,
      "outputs": []
    },
    {
      "cell_type": "code",
      "source": [
        "train_loader = DataLoader(train_set, batch_size=batch_size, shuffle=True, collate_fn=collate_fn, pin_memory=True, num_workers=4)\n",
        "test_loader = DataLoader(test_set, batch_size=batch_size, shuffle=False, collate_fn=collate_fn, pin_memory=True)"
      ],
      "metadata": {
        "id": "ces-ckAimjmH"
      },
      "execution_count": 65,
      "outputs": []
    },
    {
      "cell_type": "code",
      "source": [
        "x, y = next(iter(train_loader))\n",
        "x.shape, y.shape"
      ],
      "metadata": {
        "colab": {
          "base_uri": "https://localhost:8080/"
        },
        "id": "ggBhGWhYnnBD",
        "outputId": "62204228-7ad0-4557-ce04-e8b600bfa53d"
      },
      "execution_count": 68,
      "outputs": [
        {
          "output_type": "execute_result",
          "data": {
            "text/plain": [
              "(torch.Size([32, 1, 256, 512]), torch.Size([32, 52]))"
            ]
          },
          "metadata": {},
          "execution_count": 68
        }
      ]
    },
    {
      "cell_type": "markdown",
      "source": [
        "# **🔴Functions**"
      ],
      "metadata": {
        "id": "7WDNaXpjnB3c"
      }
    },
    {
      "cell_type": "code",
      "source": [
        "def train_one_epoch(model, train_loader, loss_fn, optimizer, metric=None, epoch=None):\n",
        "  model.train()\n",
        "  loss_train = AverageMeter()\n",
        "  if metric:\n",
        "    metric.reset()\n",
        "\n",
        "  with tqdm.tqdm(train_loader, unit='batch') as tepoch:\n",
        "    for inputs, targets in tepoch:\n",
        "      if epoch:\n",
        "        tepoch.set_description(f'Epoch {epoch}')\n",
        "\n",
        "      inputs = inputs.to(device)\n",
        "      targets = targets.to(device)\n",
        "\n",
        "      outputs = model(inputs, targets)\n",
        "\n",
        "      loss = loss_fn(outputs.reshape(-1, outputs.shape[-1]), targets.flatten())\n",
        "\n",
        "      loss.backward()\n",
        "\n",
        "      optimizer.step()\n",
        "      optimizer.zero_grad()\n",
        "\n",
        "      loss_train.update(loss.item(), n=len(targets))\n",
        "      if metric:\n",
        "        metric.update(outputs.reshape(-1, outputs.shape[-1]), targets.flatten())\n",
        "\n",
        "\n",
        "      tepoch.set_postfix(loss=loss_train.avg, metric=metric.compute().item() if metric else None)\n",
        "  return model, loss_train.avg, metric.compute().item() if metric else None"
      ],
      "metadata": {
        "id": "TkqmcTFOnAx9"
      },
      "execution_count": 66,
      "outputs": []
    },
    {
      "cell_type": "code",
      "source": [
        "def evaluate(model, test_loader, loss_fn, metric=None):\n",
        "  model.eval()\n",
        "  loss_eval = AverageMeter()\n",
        "  if metric:\n",
        "    metric.reset()\n",
        "\n",
        "  with torch.inference_mode():\n",
        "    for inputs, targets in test_loader:\n",
        "      inputs = inputs.to(device)\n",
        "      targets = targets.to(device)\n",
        "\n",
        "      outputs = model(inputs, targets)\n",
        "\n",
        "      loss = loss_fn(outputs.reshape(-1, outputs.shape[-1]), targets.flatten())\n",
        "      loss_eval.update(loss.item(), n=len(targets))\n",
        "\n",
        "      if metric:\n",
        "        metric.update(outputs.reshape(-1, outputs.shape[-1]), targets.flatten())\n",
        "\n",
        "      return loss_eval.avg, metric.compute().item() if metric else None"
      ],
      "metadata": {
        "id": "r1xknguPnX4E"
      },
      "execution_count": 67,
      "outputs": []
    },
    {
      "cell_type": "markdown",
      "source": [
        "# **🔴Model**"
      ],
      "metadata": {
        "id": "qQrcAWNgnVt5"
      }
    },
    {
      "cell_type": "code",
      "source": [],
      "metadata": {
        "id": "M2x0z6CfndBp"
      },
      "execution_count": null,
      "outputs": []
    }
  ],
  "metadata": {
    "colab": {
      "provenance": [],
      "mount_file_id": "1yMRQK3G9aUwuxik-DWirWTNisHq_QcsN",
      "authorship_tag": "ABX9TyNIV8MaXEYWb4806eKlYtYB",
      "include_colab_link": true
    },
    "kernelspec": {
      "display_name": "Python 3",
      "name": "python3"
    },
    "language_info": {
      "name": "python"
    }
  },
  "nbformat": 4,
  "nbformat_minor": 0
}