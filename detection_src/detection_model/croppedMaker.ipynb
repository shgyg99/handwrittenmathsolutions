{
 "cells": [
  {
   "cell_type": "code",
   "execution_count": 27,
   "id": "c0ab0865-3f2c-4afb-abdd-7e0c1b530de0",
   "metadata": {},
   "outputs": [],
   "source": [
    "import glob\n",
    "import os\n",
    "import numpy as np\n",
    "import pandas as pd\n",
    "import matplotlib.pyplot as plt\n",
    "import json\n",
    "import cv2"
   ]
  },
  {
   "cell_type": "code",
   "execution_count": 8,
   "id": "d1809d6c-a8a5-4e6f-b5d4-a810c86823aa",
   "metadata": {},
   "outputs": [],
   "source": [
    "images_path = glob.glob('images\\\\*')\n",
    "annots_path = glob.glob('annotation\\\\*')"
   ]
  },
  {
   "cell_type": "code",
   "execution_count": 20,
   "id": "78c72302-be2e-4486-bc50-a2abd483ef84",
   "metadata": {},
   "outputs": [
    {
     "name": "stdout",
     "output_type": "stream",
     "text": [
      "[{'label': '1', 'points': [[566.2857142857142, 685.7142857142857], [89.14285714285711, 835.7142857142857]], 'group_id': None, 'description': '', 'shape_type': 'rectangle', 'flags': {}, 'mask': None}, {'label': '1', 'points': [[457.7142857142858, 877.1428571428571], [114.85714285714289, 1045.7142857142856]], 'group_id': None, 'description': '', 'shape_type': 'rectangle', 'flags': {}, 'mask': None}, {'label': '1', 'points': [[1067.7142857142858, 775.7142857142857], [820.5714285714284, 879.9999999999999]], 'group_id': None, 'description': '', 'shape_type': 'rectangle', 'flags': {}, 'mask': None}]\n"
     ]
    }
   ],
   "source": [
    "file = annots_path[0]\n",
    "\n",
    "with open(file, 'r') as file:\n",
    "    data = json.load(file)\n",
    "\n",
    "\n",
    "print(data['shapes'])"
   ]
  },
  {
   "cell_type": "code",
   "execution_count": 21,
   "id": "9959f626-42cd-442f-9fef-f86d7da56abd",
   "metadata": {},
   "outputs": [
    {
     "data": {
      "text/plain": [
       "{'label': '1',\n",
       " 'points': [[566.2857142857142, 685.7142857142857],\n",
       "  [89.14285714285711, 835.7142857142857]],\n",
       " 'group_id': None,\n",
       " 'description': '',\n",
       " 'shape_type': 'rectangle',\n",
       " 'flags': {},\n",
       " 'mask': None}"
      ]
     },
     "execution_count": 21,
     "metadata": {},
     "output_type": "execute_result"
    }
   ],
   "source": [
    "data['shapes'][0]"
   ]
  },
  {
   "cell_type": "code",
   "execution_count": 24,
   "id": "a0edbca1-6c26-41cf-a746-b80c83e937da",
   "metadata": {},
   "outputs": [],
   "source": [
    "points = []\n",
    "\n",
    "for i in range(len(data['shapes'])):\n",
    "    points.append(data['shapes'][i]['points'])"
   ]
  },
  {
   "cell_type": "code",
   "execution_count": 25,
   "id": "ab1d40ec-852e-4d24-8e53-abe27434ff05",
   "metadata": {},
   "outputs": [
    {
     "data": {
      "text/plain": [
       "[[[566.2857142857142, 685.7142857142857],\n",
       "  [89.14285714285711, 835.7142857142857]],\n",
       " [[457.7142857142858, 877.1428571428571],\n",
       "  [114.85714285714289, 1045.7142857142856]],\n",
       " [[1067.7142857142858, 775.7142857142857],\n",
       "  [820.5714285714284, 879.9999999999999]]]"
      ]
     },
     "execution_count": 25,
     "metadata": {},
     "output_type": "execute_result"
    }
   ],
   "source": [
    "points"
   ]
  },
  {
   "cell_type": "code",
   "execution_count": 26,
   "id": "4f4e20d1-7da5-4cd9-a9ce-f7a9ab80d44b",
   "metadata": {},
   "outputs": [
    {
     "data": {
      "text/plain": [
       "[[566.2857142857142, 685.7142857142857],\n",
       " [89.14285714285711, 835.7142857142857]]"
      ]
     },
     "execution_count": 26,
     "metadata": {},
     "output_type": "execute_result"
    }
   ],
   "source": [
    "points[0]"
   ]
  },
  {
   "cell_type": "code",
   "execution_count": 65,
   "id": "ddd9b85c-aff0-463a-9ea0-d045cb7fe139",
   "metadata": {},
   "outputs": [],
   "source": [
    "from PIL import Image\n",
    "import json\n",
    "\n",
    "for image_path in images_path:\n",
    "    file = annots_path[0]\n",
    "    image = Image.open(image_path)\n",
    "    image_name = image_path.split('\\\\')[1].split('.')[0]\n",
    "    annot_path = f'annotation//{image_name}.json'\n",
    "    with open(annot_path, 'r') as file:\n",
    "        data = json.load(file)\n",
    "        \n",
    "    points = []\n",
    "    for i in range(len(data['shapes'])):\n",
    "        points.append(data['shapes'][i]['points'])\n",
    "    TARGET_SIZE = (512, 256)\n",
    "    for idx, coord in enumerate(points):\n",
    "        x1, y1, x2, y2 = coord[0][0], coord[0][1], coord[1][0], coord[1][1]\n",
    "        try:\n",
    "            cropped_image = image.crop((x2, y1, x1, y2)).convert(\"L\")\n",
    "            cropped_image.thumbnail((TARGET_SIZE[0], TARGET_SIZE[1]))\n",
    "            canvas = Image.new(\"L\", TARGET_SIZE, \"white\")\n",
    "            offset_x = (TARGET_SIZE[0] - cropped_image.width) // 2\n",
    "            offset_y = (TARGET_SIZE[1] - cropped_image.height) // 2\n",
    "            canvas.paste(cropped_image, (offset_x, offset_y))\n",
    "            canvas.save(f\"cropped\\\\{image_name}_{idx + 1}.jpg\")\n",
    "        except:\n",
    "            pass"
   ]
  },
  {
   "cell_type": "code",
   "execution_count": 47,
   "id": "a5a26acc-df8f-4651-8756-3ceff33e7a48",
   "metadata": {},
   "outputs": [
    {
     "data": {
      "text/plain": [
       "'im (1)'"
      ]
     },
     "execution_count": 47,
     "metadata": {},
     "output_type": "execute_result"
    }
   ],
   "source": [
    "myProject/annotation/im (1).json"
   ]
  },
  {
   "cell_type": "code",
   "execution_count": null,
   "id": "e3aa5980-2553-4b74-a305-c538df7ce894",
   "metadata": {},
   "outputs": [],
   "source": []
  }
 ],
 "metadata": {
  "kernelspec": {
   "display_name": "Python 3 (ipykernel)",
   "language": "python",
   "name": "python3"
  },
  "language_info": {
   "codemirror_mode": {
    "name": "ipython",
    "version": 3
   },
   "file_extension": ".py",
   "mimetype": "text/x-python",
   "name": "python",
   "nbconvert_exporter": "python",
   "pygments_lexer": "ipython3",
   "version": "3.11.9"
  }
 },
 "nbformat": 4,
 "nbformat_minor": 5
}
